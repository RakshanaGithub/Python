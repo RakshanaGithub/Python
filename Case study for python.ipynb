{
 "cells": [
  {
   "cell_type": "markdown",
   "id": "b523fe52-07f6-4f9e-9ebe-25b317832008",
   "metadata": {},
   "source": [
    "# Case Study of Anxiety disorder in India\n",
    "##### Rakshana V. [2148142]\n",
    "##### Radhika Bhagwat [2148127]"
   ]
  },
  {
   "cell_type": "markdown",
   "id": "e0b2ec97-0c20-4670-b09c-ed5c4bf97cff",
   "metadata": {},
   "source": [
    "# Objective:\n",
    "##### To analyse the severity and occurence of anxiety disorders in India from 1990 to 2019 based on the given Dataset.\n"
   ]
  },
  {
   "cell_type": "markdown",
   "id": "4cfe7b4b-f2cc-4132-a320-2788ba0955e0",
   "metadata": {},
   "source": [
    "# Data Source:\n",
    "The data is downloaded from the following website:\n",
    "\n",
    "https://vizhub.healthdata.org/gbd-results/"
   ]
  },
  {
   "cell_type": "markdown",
   "id": "f50e8e3d-3634-48cf-ab34-dfd92421afc7",
   "metadata": {},
   "source": [
    "# Glossary:\n",
    "* Daly (Disability Adjusted Life Years): The measure of overall disorder severity/burden, expressed as the number of years lost due to ill-health, disability or early death. \n",
    "* Prevalence: The proportion of individuals in a population who have a disorder during a specific time period.\n",
    "* Incidence: The rate of new cases of a disease occurring in a specific population over a particular period of time.\n",
    "\n",
    "**In this dataset, the disorder under consideration is 'Anxiety' and the values are all measured as a rate per 100,000 population.**"
   ]
  },
  {
   "cell_type": "markdown",
   "id": "e92f9559-c017-4a59-8d5d-42425933ed16",
   "metadata": {},
   "source": [
    "# Importing libraries:"
   ]
  },
  {
   "cell_type": "code",
   "execution_count": 40,
   "id": "31de25e1-cb99-4436-9b9c-c6dbb1f623ff",
   "metadata": {},
   "outputs": [],
   "source": [
    "import pandas as pd\n",
    "import numpy as np\n",
    "import matplotlib.pyplot as plt\n",
    "import numpy as np\n",
    "import seaborn as sns\n",
    "from statsmodels.tsa.holtwinters import SimpleExpSmoothing"
   ]
  },
  {
   "cell_type": "markdown",
   "id": "7b057481-be3f-4cc1-ad14-fe8e1b0291c9",
   "metadata": {},
   "source": [
    "# Importing the Datasets:"
   ]
  },
  {
   "cell_type": "code",
   "execution_count": 41,
   "id": "39ad2274-c2e2-4d24-abd9-54cc80a32528",
   "metadata": {},
   "outputs": [
    {
     "data": {
      "text/html": [
       "<div>\n",
       "<style scoped>\n",
       "    .dataframe tbody tr th:only-of-type {\n",
       "        vertical-align: middle;\n",
       "    }\n",
       "\n",
       "    .dataframe tbody tr th {\n",
       "        vertical-align: top;\n",
       "    }\n",
       "\n",
       "    .dataframe thead th {\n",
       "        text-align: right;\n",
       "    }\n",
       "</style>\n",
       "<table border=\"1\" class=\"dataframe\">\n",
       "  <thead>\n",
       "    <tr style=\"text-align: right;\">\n",
       "      <th></th>\n",
       "      <th>measure</th>\n",
       "      <th>location</th>\n",
       "      <th>sex</th>\n",
       "      <th>age</th>\n",
       "      <th>cause</th>\n",
       "      <th>metric</th>\n",
       "      <th>year</th>\n",
       "      <th>val</th>\n",
       "      <th>upper</th>\n",
       "      <th>lower</th>\n",
       "    </tr>\n",
       "  </thead>\n",
       "  <tbody>\n",
       "    <tr>\n",
       "      <th>0</th>\n",
       "      <td>DALYs (Disability-Adjusted Life Years)</td>\n",
       "      <td>India</td>\n",
       "      <td>Male</td>\n",
       "      <td>Under 5</td>\n",
       "      <td>Anxiety disorders</td>\n",
       "      <td>Rate</td>\n",
       "      <td>1990</td>\n",
       "      <td>3.199289</td>\n",
       "      <td>5.295867</td>\n",
       "      <td>1.829157</td>\n",
       "    </tr>\n",
       "    <tr>\n",
       "      <th>1</th>\n",
       "      <td>DALYs (Disability-Adjusted Life Years)</td>\n",
       "      <td>India</td>\n",
       "      <td>Female</td>\n",
       "      <td>Under 5</td>\n",
       "      <td>Anxiety disorders</td>\n",
       "      <td>Rate</td>\n",
       "      <td>1990</td>\n",
       "      <td>5.577910</td>\n",
       "      <td>8.759557</td>\n",
       "      <td>3.183607</td>\n",
       "    </tr>\n",
       "    <tr>\n",
       "      <th>2</th>\n",
       "      <td>DALYs (Disability-Adjusted Life Years)</td>\n",
       "      <td>India</td>\n",
       "      <td>Male</td>\n",
       "      <td>All Ages</td>\n",
       "      <td>Anxiety disorders</td>\n",
       "      <td>Rate</td>\n",
       "      <td>1990</td>\n",
       "      <td>202.618581</td>\n",
       "      <td>277.877656</td>\n",
       "      <td>139.825974</td>\n",
       "    </tr>\n",
       "    <tr>\n",
       "      <th>3</th>\n",
       "      <td>DALYs (Disability-Adjusted Life Years)</td>\n",
       "      <td>India</td>\n",
       "      <td>Female</td>\n",
       "      <td>All Ages</td>\n",
       "      <td>Anxiety disorders</td>\n",
       "      <td>Rate</td>\n",
       "      <td>1990</td>\n",
       "      <td>295.840918</td>\n",
       "      <td>403.597854</td>\n",
       "      <td>206.032798</td>\n",
       "    </tr>\n",
       "    <tr>\n",
       "      <th>4</th>\n",
       "      <td>DALYs (Disability-Adjusted Life Years)</td>\n",
       "      <td>India</td>\n",
       "      <td>Male</td>\n",
       "      <td>5-14 years</td>\n",
       "      <td>Anxiety disorders</td>\n",
       "      <td>Rate</td>\n",
       "      <td>1990</td>\n",
       "      <td>82.615865</td>\n",
       "      <td>128.832620</td>\n",
       "      <td>49.545739</td>\n",
       "    </tr>\n",
       "  </tbody>\n",
       "</table>\n",
       "</div>"
      ],
      "text/plain": [
       "                                  measure location     sex         age  \\\n",
       "0  DALYs (Disability-Adjusted Life Years)    India    Male     Under 5   \n",
       "1  DALYs (Disability-Adjusted Life Years)    India  Female     Under 5   \n",
       "2  DALYs (Disability-Adjusted Life Years)    India    Male    All Ages   \n",
       "3  DALYs (Disability-Adjusted Life Years)    India  Female    All Ages   \n",
       "4  DALYs (Disability-Adjusted Life Years)    India    Male  5-14 years   \n",
       "\n",
       "               cause metric  year         val       upper       lower  \n",
       "0  Anxiety disorders   Rate  1990    3.199289    5.295867    1.829157  \n",
       "1  Anxiety disorders   Rate  1990    5.577910    8.759557    3.183607  \n",
       "2  Anxiety disorders   Rate  1990  202.618581  277.877656  139.825974  \n",
       "3  Anxiety disorders   Rate  1990  295.840918  403.597854  206.032798  \n",
       "4  Anxiety disorders   Rate  1990   82.615865  128.832620   49.545739  "
      ]
     },
     "execution_count": 41,
     "metadata": {},
     "output_type": "execute_result"
    }
   ],
   "source": [
    "Daly = pd.read_csv(\"Daly_Python_casestudy.csv\")\n",
    "Daly.head()"
   ]
  },
  {
   "cell_type": "code",
   "execution_count": 42,
   "id": "c2d9b316-a4db-44cc-aaca-eea058f21adc",
   "metadata": {},
   "outputs": [
    {
     "data": {
      "text/html": [
       "<div>\n",
       "<style scoped>\n",
       "    .dataframe tbody tr th:only-of-type {\n",
       "        vertical-align: middle;\n",
       "    }\n",
       "\n",
       "    .dataframe tbody tr th {\n",
       "        vertical-align: top;\n",
       "    }\n",
       "\n",
       "    .dataframe thead th {\n",
       "        text-align: right;\n",
       "    }\n",
       "</style>\n",
       "<table border=\"1\" class=\"dataframe\">\n",
       "  <thead>\n",
       "    <tr style=\"text-align: right;\">\n",
       "      <th></th>\n",
       "      <th>measure</th>\n",
       "      <th>location</th>\n",
       "      <th>sex</th>\n",
       "      <th>age</th>\n",
       "      <th>cause</th>\n",
       "      <th>metric</th>\n",
       "      <th>year</th>\n",
       "      <th>val</th>\n",
       "      <th>upper</th>\n",
       "      <th>lower</th>\n",
       "    </tr>\n",
       "  </thead>\n",
       "  <tbody>\n",
       "    <tr>\n",
       "      <th>0</th>\n",
       "      <td>Prevalence</td>\n",
       "      <td>India</td>\n",
       "      <td>Male</td>\n",
       "      <td>All Ages</td>\n",
       "      <td>Anxiety disorders</td>\n",
       "      <td>Rate</td>\n",
       "      <td>1990</td>\n",
       "      <td>2119.167993</td>\n",
       "      <td>2506.786409</td>\n",
       "      <td>1776.388591</td>\n",
       "    </tr>\n",
       "    <tr>\n",
       "      <th>1</th>\n",
       "      <td>Prevalence</td>\n",
       "      <td>India</td>\n",
       "      <td>Female</td>\n",
       "      <td>All Ages</td>\n",
       "      <td>Anxiety disorders</td>\n",
       "      <td>Rate</td>\n",
       "      <td>1990</td>\n",
       "      <td>3155.730405</td>\n",
       "      <td>3725.667802</td>\n",
       "      <td>2658.664878</td>\n",
       "    </tr>\n",
       "    <tr>\n",
       "      <th>2</th>\n",
       "      <td>Prevalence</td>\n",
       "      <td>India</td>\n",
       "      <td>Male</td>\n",
       "      <td>5-14 years</td>\n",
       "      <td>Anxiety disorders</td>\n",
       "      <td>Rate</td>\n",
       "      <td>1990</td>\n",
       "      <td>836.212077</td>\n",
       "      <td>1173.169161</td>\n",
       "      <td>571.906311</td>\n",
       "    </tr>\n",
       "    <tr>\n",
       "      <th>3</th>\n",
       "      <td>Prevalence</td>\n",
       "      <td>India</td>\n",
       "      <td>Female</td>\n",
       "      <td>5-14 years</td>\n",
       "      <td>Anxiety disorders</td>\n",
       "      <td>Rate</td>\n",
       "      <td>1990</td>\n",
       "      <td>1463.603951</td>\n",
       "      <td>2048.746596</td>\n",
       "      <td>1001.262322</td>\n",
       "    </tr>\n",
       "    <tr>\n",
       "      <th>4</th>\n",
       "      <td>Prevalence</td>\n",
       "      <td>India</td>\n",
       "      <td>Male</td>\n",
       "      <td>15-49 years</td>\n",
       "      <td>Anxiety disorders</td>\n",
       "      <td>Rate</td>\n",
       "      <td>1990</td>\n",
       "      <td>3030.512681</td>\n",
       "      <td>3755.601033</td>\n",
       "      <td>2442.883933</td>\n",
       "    </tr>\n",
       "  </tbody>\n",
       "</table>\n",
       "</div>"
      ],
      "text/plain": [
       "      measure location     sex          age              cause metric  year  \\\n",
       "0  Prevalence    India    Male     All Ages  Anxiety disorders   Rate  1990   \n",
       "1  Prevalence    India  Female     All Ages  Anxiety disorders   Rate  1990   \n",
       "2  Prevalence    India    Male   5-14 years  Anxiety disorders   Rate  1990   \n",
       "3  Prevalence    India  Female   5-14 years  Anxiety disorders   Rate  1990   \n",
       "4  Prevalence    India    Male  15-49 years  Anxiety disorders   Rate  1990   \n",
       "\n",
       "           val        upper        lower  \n",
       "0  2119.167993  2506.786409  1776.388591  \n",
       "1  3155.730405  3725.667802  2658.664878  \n",
       "2   836.212077  1173.169161   571.906311  \n",
       "3  1463.603951  2048.746596  1001.262322  \n",
       "4  3030.512681  3755.601033  2442.883933  "
      ]
     },
     "execution_count": 42,
     "metadata": {},
     "output_type": "execute_result"
    }
   ],
   "source": [
    "Prevalence = pd.read_csv(\"Prevalence_Python_casestudy.csv\")\n",
    "Prevalence.head()"
   ]
  },
  {
   "cell_type": "code",
   "execution_count": 43,
   "id": "0c8883d0-12ff-42d3-8496-e05df05a423d",
   "metadata": {},
   "outputs": [
    {
     "data": {
      "text/html": [
       "<div>\n",
       "<style scoped>\n",
       "    .dataframe tbody tr th:only-of-type {\n",
       "        vertical-align: middle;\n",
       "    }\n",
       "\n",
       "    .dataframe tbody tr th {\n",
       "        vertical-align: top;\n",
       "    }\n",
       "\n",
       "    .dataframe thead th {\n",
       "        text-align: right;\n",
       "    }\n",
       "</style>\n",
       "<table border=\"1\" class=\"dataframe\">\n",
       "  <thead>\n",
       "    <tr style=\"text-align: right;\">\n",
       "      <th></th>\n",
       "      <th>measure</th>\n",
       "      <th>location</th>\n",
       "      <th>sex</th>\n",
       "      <th>age</th>\n",
       "      <th>cause</th>\n",
       "      <th>metric</th>\n",
       "      <th>year</th>\n",
       "      <th>val</th>\n",
       "      <th>upper</th>\n",
       "      <th>lower</th>\n",
       "    </tr>\n",
       "  </thead>\n",
       "  <tbody>\n",
       "    <tr>\n",
       "      <th>415</th>\n",
       "      <td>Incidence</td>\n",
       "      <td>India</td>\n",
       "      <td>Female</td>\n",
       "      <td>50-69 years</td>\n",
       "      <td>Anxiety disorders</td>\n",
       "      <td>Rate</td>\n",
       "      <td>2019</td>\n",
       "      <td>539.635306</td>\n",
       "      <td>744.305610</td>\n",
       "      <td>372.842771</td>\n",
       "    </tr>\n",
       "    <tr>\n",
       "      <th>416</th>\n",
       "      <td>Incidence</td>\n",
       "      <td>India</td>\n",
       "      <td>Male</td>\n",
       "      <td>70+ years</td>\n",
       "      <td>Anxiety disorders</td>\n",
       "      <td>Rate</td>\n",
       "      <td>2019</td>\n",
       "      <td>282.662591</td>\n",
       "      <td>381.366433</td>\n",
       "      <td>210.081230</td>\n",
       "    </tr>\n",
       "    <tr>\n",
       "      <th>417</th>\n",
       "      <td>Incidence</td>\n",
       "      <td>India</td>\n",
       "      <td>Female</td>\n",
       "      <td>70+ years</td>\n",
       "      <td>Anxiety disorders</td>\n",
       "      <td>Rate</td>\n",
       "      <td>2019</td>\n",
       "      <td>235.563235</td>\n",
       "      <td>321.620886</td>\n",
       "      <td>170.521575</td>\n",
       "    </tr>\n",
       "    <tr>\n",
       "      <th>418</th>\n",
       "      <td>Incidence</td>\n",
       "      <td>India</td>\n",
       "      <td>Male</td>\n",
       "      <td>Age-standardized</td>\n",
       "      <td>Anxiety disorders</td>\n",
       "      <td>Rate</td>\n",
       "      <td>2019</td>\n",
       "      <td>415.260968</td>\n",
       "      <td>494.535287</td>\n",
       "      <td>341.078413</td>\n",
       "    </tr>\n",
       "    <tr>\n",
       "      <th>419</th>\n",
       "      <td>Incidence</td>\n",
       "      <td>India</td>\n",
       "      <td>Female</td>\n",
       "      <td>Age-standardized</td>\n",
       "      <td>Anxiety disorders</td>\n",
       "      <td>Rate</td>\n",
       "      <td>2019</td>\n",
       "      <td>562.971854</td>\n",
       "      <td>672.107919</td>\n",
       "      <td>456.544633</td>\n",
       "    </tr>\n",
       "  </tbody>\n",
       "</table>\n",
       "</div>"
      ],
      "text/plain": [
       "       measure location     sex               age              cause metric  \\\n",
       "415  Incidence    India  Female       50-69 years  Anxiety disorders   Rate   \n",
       "416  Incidence    India    Male         70+ years  Anxiety disorders   Rate   \n",
       "417  Incidence    India  Female         70+ years  Anxiety disorders   Rate   \n",
       "418  Incidence    India    Male  Age-standardized  Anxiety disorders   Rate   \n",
       "419  Incidence    India  Female  Age-standardized  Anxiety disorders   Rate   \n",
       "\n",
       "     year         val       upper       lower  \n",
       "415  2019  539.635306  744.305610  372.842771  \n",
       "416  2019  282.662591  381.366433  210.081230  \n",
       "417  2019  235.563235  321.620886  170.521575  \n",
       "418  2019  415.260968  494.535287  341.078413  \n",
       "419  2019  562.971854  672.107919  456.544633  "
      ]
     },
     "execution_count": 43,
     "metadata": {},
     "output_type": "execute_result"
    }
   ],
   "source": [
    "Incidence = pd.read_csv(\"Incidence_Python_casestudy.csv\")\n",
    "Incidence.tail()"
   ]
  },
  {
   "cell_type": "markdown",
   "id": "04eb3948-9deb-4eb6-9950-8afd5b558376",
   "metadata": {},
   "source": [
    "#### This data needs to be cleaned and formatted into the required formats for analysis. This is done in the next section."
   ]
  },
  {
   "cell_type": "markdown",
   "id": "df612d33-43f1-4782-98fd-e00f495b637e",
   "metadata": {},
   "source": [
    "# Data Cleaning:"
   ]
  },
  {
   "cell_type": "markdown",
   "id": "845a662f-0f01-4a4a-930f-1c9ad2c427f8",
   "metadata": {},
   "source": [
    "### 1. Disability-Adjusted Life Years (rate per 100,000 population):"
   ]
  },
  {
   "cell_type": "code",
   "execution_count": 44,
   "id": "964ad1b8-1081-4eb3-93f1-04736611aef0",
   "metadata": {},
   "outputs": [
    {
     "data": {
      "text/html": [
       "<div>\n",
       "<style scoped>\n",
       "    .dataframe tbody tr th:only-of-type {\n",
       "        vertical-align: middle;\n",
       "    }\n",
       "\n",
       "    .dataframe tbody tr th {\n",
       "        vertical-align: top;\n",
       "    }\n",
       "\n",
       "    .dataframe thead th {\n",
       "        text-align: right;\n",
       "    }\n",
       "</style>\n",
       "<table border=\"1\" class=\"dataframe\">\n",
       "  <thead>\n",
       "    <tr style=\"text-align: right;\">\n",
       "      <th></th>\n",
       "      <th>Sex</th>\n",
       "      <th>Age_group</th>\n",
       "      <th>Year</th>\n",
       "      <th>Daly</th>\n",
       "      <th>Upper_Daly</th>\n",
       "      <th>Lower_Daly</th>\n",
       "    </tr>\n",
       "  </thead>\n",
       "  <tbody>\n",
       "    <tr>\n",
       "      <th>0</th>\n",
       "      <td>Male</td>\n",
       "      <td>Under 5</td>\n",
       "      <td>1990</td>\n",
       "      <td>3.199289</td>\n",
       "      <td>5.295867</td>\n",
       "      <td>1.829157</td>\n",
       "    </tr>\n",
       "    <tr>\n",
       "      <th>1</th>\n",
       "      <td>Female</td>\n",
       "      <td>Under 5</td>\n",
       "      <td>1990</td>\n",
       "      <td>5.577910</td>\n",
       "      <td>8.759557</td>\n",
       "      <td>3.183607</td>\n",
       "    </tr>\n",
       "    <tr>\n",
       "      <th>2</th>\n",
       "      <td>Male</td>\n",
       "      <td>All Ages</td>\n",
       "      <td>1990</td>\n",
       "      <td>202.618581</td>\n",
       "      <td>277.877656</td>\n",
       "      <td>139.825974</td>\n",
       "    </tr>\n",
       "    <tr>\n",
       "      <th>3</th>\n",
       "      <td>Female</td>\n",
       "      <td>All Ages</td>\n",
       "      <td>1990</td>\n",
       "      <td>295.840918</td>\n",
       "      <td>403.597854</td>\n",
       "      <td>206.032798</td>\n",
       "    </tr>\n",
       "    <tr>\n",
       "      <th>4</th>\n",
       "      <td>Male</td>\n",
       "      <td>5-14 years</td>\n",
       "      <td>1990</td>\n",
       "      <td>82.615865</td>\n",
       "      <td>128.832620</td>\n",
       "      <td>49.545739</td>\n",
       "    </tr>\n",
       "  </tbody>\n",
       "</table>\n",
       "</div>"
      ],
      "text/plain": [
       "      Sex   Age_group  Year        Daly  Upper_Daly  Lower_Daly\n",
       "0    Male     Under 5  1990    3.199289    5.295867    1.829157\n",
       "1  Female     Under 5  1990    5.577910    8.759557    3.183607\n",
       "2    Male    All Ages  1990  202.618581  277.877656  139.825974\n",
       "3  Female    All Ages  1990  295.840918  403.597854  206.032798\n",
       "4    Male  5-14 years  1990   82.615865  128.832620   49.545739"
      ]
     },
     "execution_count": 44,
     "metadata": {},
     "output_type": "execute_result"
    }
   ],
   "source": [
    "Daly.drop(Daly[['location', 'measure', 'metric', 'cause']], inplace=True, axis=1)\n",
    "Daly.columns= ['Sex', 'Age_group', 'Year', 'Daly', 'Upper_Daly', 'Lower_Daly']\n",
    "Daly.head()"
   ]
  },
  {
   "cell_type": "code",
   "execution_count": 45,
   "id": "1d9a7657-02e9-4f70-9c07-fcbd96551aff",
   "metadata": {},
   "outputs": [],
   "source": [
    "Daly_male = Daly[(Daly.Sex == 'Male')]\n",
    "Daly_male = Daly_male.drop('Sex', axis = 1)\n",
    "\n",
    "Daly_female = Daly[(Daly.Sex == 'Female')]\n",
    "Daly_female = Daly_female.drop('Sex', axis = 1)\n",
    "\n",
    "\n",
    "Daly_male_average = pd.pivot_table(Daly_male, values= 'Daly', index = 'Age_group', aggfunc= np.average)\n",
    "Daly_male_average = Daly_male_average.drop(['Age-standardized', 'All Ages'])\n",
    "\n",
    "Daly_female_average = pd.pivot_table(Daly_female, values= 'Daly', index = 'Age_group', aggfunc= np.average)\n",
    "Daly_female_average = Daly_female_average.drop(['Age-standardized', 'All Ages'])"
   ]
  },
  {
   "cell_type": "code",
   "execution_count": 46,
   "id": "f3b0a73b-0a97-4052-98ea-cbc169cd09d6",
   "metadata": {},
   "outputs": [
    {
     "data": {
      "text/html": [
       "<div>\n",
       "<style scoped>\n",
       "    .dataframe tbody tr th:only-of-type {\n",
       "        vertical-align: middle;\n",
       "    }\n",
       "\n",
       "    .dataframe tbody tr th {\n",
       "        vertical-align: top;\n",
       "    }\n",
       "\n",
       "    .dataframe thead th {\n",
       "        text-align: right;\n",
       "    }\n",
       "</style>\n",
       "<table border=\"1\" class=\"dataframe\">\n",
       "  <thead>\n",
       "    <tr style=\"text-align: right;\">\n",
       "      <th></th>\n",
       "      <th>Daly</th>\n",
       "    </tr>\n",
       "    <tr>\n",
       "      <th>Age_group</th>\n",
       "      <th></th>\n",
       "    </tr>\n",
       "  </thead>\n",
       "  <tbody>\n",
       "    <tr>\n",
       "      <th>15-49 years</th>\n",
       "      <td>271.654488</td>\n",
       "    </tr>\n",
       "    <tr>\n",
       "      <th>5-14 years</th>\n",
       "      <td>85.887589</td>\n",
       "    </tr>\n",
       "    <tr>\n",
       "      <th>50-69 years</th>\n",
       "      <td>301.258304</td>\n",
       "    </tr>\n",
       "    <tr>\n",
       "      <th>70+ years</th>\n",
       "      <td>241.727157</td>\n",
       "    </tr>\n",
       "    <tr>\n",
       "      <th>Under 5</th>\n",
       "      <td>3.257341</td>\n",
       "    </tr>\n",
       "  </tbody>\n",
       "</table>\n",
       "</div>"
      ],
      "text/plain": [
       "                   Daly\n",
       "Age_group              \n",
       "15-49 years  271.654488\n",
       "5-14 years    85.887589\n",
       "50-69 years  301.258304\n",
       "70+ years    241.727157\n",
       "Under 5        3.257341"
      ]
     },
     "execution_count": 46,
     "metadata": {},
     "output_type": "execute_result"
    }
   ],
   "source": [
    "Daly_male_average"
   ]
  },
  {
   "cell_type": "code",
   "execution_count": 47,
   "id": "23c70356-f857-493a-b2a9-47cbcf54e047",
   "metadata": {},
   "outputs": [
    {
     "data": {
      "text/html": [
       "<div>\n",
       "<style scoped>\n",
       "    .dataframe tbody tr th:only-of-type {\n",
       "        vertical-align: middle;\n",
       "    }\n",
       "\n",
       "    .dataframe tbody tr th {\n",
       "        vertical-align: top;\n",
       "    }\n",
       "\n",
       "    .dataframe thead th {\n",
       "        text-align: right;\n",
       "    }\n",
       "</style>\n",
       "<table border=\"1\" class=\"dataframe\">\n",
       "  <thead>\n",
       "    <tr style=\"text-align: right;\">\n",
       "      <th></th>\n",
       "      <th>Daly</th>\n",
       "    </tr>\n",
       "    <tr>\n",
       "      <th>Age_group</th>\n",
       "      <th></th>\n",
       "    </tr>\n",
       "  </thead>\n",
       "  <tbody>\n",
       "    <tr>\n",
       "      <th>15-49 years</th>\n",
       "      <td>408.973626</td>\n",
       "    </tr>\n",
       "    <tr>\n",
       "      <th>5-14 years</th>\n",
       "      <td>151.473969</td>\n",
       "    </tr>\n",
       "    <tr>\n",
       "      <th>50-69 years</th>\n",
       "      <td>440.985720</td>\n",
       "    </tr>\n",
       "    <tr>\n",
       "      <th>70+ years</th>\n",
       "      <td>346.138296</td>\n",
       "    </tr>\n",
       "    <tr>\n",
       "      <th>Under 5</th>\n",
       "      <td>5.761375</td>\n",
       "    </tr>\n",
       "  </tbody>\n",
       "</table>\n",
       "</div>"
      ],
      "text/plain": [
       "                   Daly\n",
       "Age_group              \n",
       "15-49 years  408.973626\n",
       "5-14 years   151.473969\n",
       "50-69 years  440.985720\n",
       "70+ years    346.138296\n",
       "Under 5        5.761375"
      ]
     },
     "execution_count": 47,
     "metadata": {},
     "output_type": "execute_result"
    }
   ],
   "source": [
    "Daly_female_average"
   ]
  },
  {
   "cell_type": "markdown",
   "id": "c2e5ada2-13f2-4d3b-be2c-e418720bdf21",
   "metadata": {},
   "source": [
    "### 2. Prevalence (rate per 100,000 population):"
   ]
  },
  {
   "cell_type": "code",
   "execution_count": 48,
   "id": "b983d254-6dae-4ded-8d1a-ccb820a792d6",
   "metadata": {},
   "outputs": [
    {
     "data": {
      "text/html": [
       "<div>\n",
       "<style scoped>\n",
       "    .dataframe tbody tr th:only-of-type {\n",
       "        vertical-align: middle;\n",
       "    }\n",
       "\n",
       "    .dataframe tbody tr th {\n",
       "        vertical-align: top;\n",
       "    }\n",
       "\n",
       "    .dataframe thead th {\n",
       "        text-align: right;\n",
       "    }\n",
       "</style>\n",
       "<table border=\"1\" class=\"dataframe\">\n",
       "  <thead>\n",
       "    <tr style=\"text-align: right;\">\n",
       "      <th></th>\n",
       "      <th>Sex</th>\n",
       "      <th>Age_group</th>\n",
       "      <th>Year</th>\n",
       "      <th>Prevalence</th>\n",
       "      <th>Upper_Prevalence</th>\n",
       "      <th>Lower_Prevalence</th>\n",
       "    </tr>\n",
       "  </thead>\n",
       "  <tbody>\n",
       "    <tr>\n",
       "      <th>0</th>\n",
       "      <td>Male</td>\n",
       "      <td>All Ages</td>\n",
       "      <td>1990</td>\n",
       "      <td>2119.167993</td>\n",
       "      <td>2506.786409</td>\n",
       "      <td>1776.388591</td>\n",
       "    </tr>\n",
       "    <tr>\n",
       "      <th>1</th>\n",
       "      <td>Female</td>\n",
       "      <td>All Ages</td>\n",
       "      <td>1990</td>\n",
       "      <td>3155.730405</td>\n",
       "      <td>3725.667802</td>\n",
       "      <td>2658.664878</td>\n",
       "    </tr>\n",
       "    <tr>\n",
       "      <th>2</th>\n",
       "      <td>Male</td>\n",
       "      <td>5-14 years</td>\n",
       "      <td>1990</td>\n",
       "      <td>836.212077</td>\n",
       "      <td>1173.169161</td>\n",
       "      <td>571.906311</td>\n",
       "    </tr>\n",
       "    <tr>\n",
       "      <th>3</th>\n",
       "      <td>Female</td>\n",
       "      <td>5-14 years</td>\n",
       "      <td>1990</td>\n",
       "      <td>1463.603951</td>\n",
       "      <td>2048.746596</td>\n",
       "      <td>1001.262322</td>\n",
       "    </tr>\n",
       "    <tr>\n",
       "      <th>4</th>\n",
       "      <td>Male</td>\n",
       "      <td>15-49 years</td>\n",
       "      <td>1990</td>\n",
       "      <td>3030.512681</td>\n",
       "      <td>3755.601033</td>\n",
       "      <td>2442.883933</td>\n",
       "    </tr>\n",
       "  </tbody>\n",
       "</table>\n",
       "</div>"
      ],
      "text/plain": [
       "      Sex    Age_group  Year   Prevalence  Upper_Prevalence  Lower_Prevalence\n",
       "0    Male     All Ages  1990  2119.167993       2506.786409       1776.388591\n",
       "1  Female     All Ages  1990  3155.730405       3725.667802       2658.664878\n",
       "2    Male   5-14 years  1990   836.212077       1173.169161        571.906311\n",
       "3  Female   5-14 years  1990  1463.603951       2048.746596       1001.262322\n",
       "4    Male  15-49 years  1990  3030.512681       3755.601033       2442.883933"
      ]
     },
     "execution_count": 48,
     "metadata": {},
     "output_type": "execute_result"
    }
   ],
   "source": [
    "Prevalence.drop(Prevalence[['location', 'measure', 'metric', 'cause']], inplace=True, axis=1)\n",
    "Prevalence.columns= ['Sex', 'Age_group', 'Year', 'Prevalence', 'Upper_Prevalence', 'Lower_Prevalence']\n",
    "Prevalence.head()"
   ]
  },
  {
   "cell_type": "code",
   "execution_count": 49,
   "id": "266837e0-2bc5-4496-8450-b24cd8de2927",
   "metadata": {},
   "outputs": [],
   "source": [
    "Prevalence_male = Prevalence[(Prevalence.Sex == 'Male')]\n",
    "Prevalence_male = Prevalence_male.drop('Sex', axis = 1)\n",
    "\n",
    "Prevalence_female = Prevalence[(Prevalence.Sex == 'Female')]\n",
    "Prevalence_female = Prevalence_female.drop('Sex', axis = 1)"
   ]
  },
  {
   "cell_type": "code",
   "execution_count": 50,
   "id": "41b87a86-52f4-4fbe-b124-68ff41e30282",
   "metadata": {},
   "outputs": [
    {
     "data": {
      "text/html": [
       "<div>\n",
       "<style scoped>\n",
       "    .dataframe tbody tr th:only-of-type {\n",
       "        vertical-align: middle;\n",
       "    }\n",
       "\n",
       "    .dataframe tbody tr th {\n",
       "        vertical-align: top;\n",
       "    }\n",
       "\n",
       "    .dataframe thead th {\n",
       "        text-align: right;\n",
       "    }\n",
       "</style>\n",
       "<table border=\"1\" class=\"dataframe\">\n",
       "  <thead>\n",
       "    <tr style=\"text-align: right;\">\n",
       "      <th></th>\n",
       "      <th>Age_group</th>\n",
       "      <th>Year</th>\n",
       "      <th>Prevalence</th>\n",
       "      <th>Upper_Prevalence</th>\n",
       "      <th>Lower_Prevalence</th>\n",
       "    </tr>\n",
       "  </thead>\n",
       "  <tbody>\n",
       "    <tr>\n",
       "      <th>0</th>\n",
       "      <td>All Ages</td>\n",
       "      <td>1990</td>\n",
       "      <td>2119.167993</td>\n",
       "      <td>2506.786409</td>\n",
       "      <td>1776.388591</td>\n",
       "    </tr>\n",
       "    <tr>\n",
       "      <th>2</th>\n",
       "      <td>5-14 years</td>\n",
       "      <td>1990</td>\n",
       "      <td>836.212077</td>\n",
       "      <td>1173.169161</td>\n",
       "      <td>571.906311</td>\n",
       "    </tr>\n",
       "    <tr>\n",
       "      <th>4</th>\n",
       "      <td>15-49 years</td>\n",
       "      <td>1990</td>\n",
       "      <td>3030.512681</td>\n",
       "      <td>3755.601033</td>\n",
       "      <td>2442.883933</td>\n",
       "    </tr>\n",
       "    <tr>\n",
       "      <th>6</th>\n",
       "      <td>50-69 years</td>\n",
       "      <td>1990</td>\n",
       "      <td>3527.403044</td>\n",
       "      <td>4414.890055</td>\n",
       "      <td>2831.408876</td>\n",
       "    </tr>\n",
       "    <tr>\n",
       "      <th>8</th>\n",
       "      <td>70+ years</td>\n",
       "      <td>1990</td>\n",
       "      <td>2952.169060</td>\n",
       "      <td>3771.075746</td>\n",
       "      <td>2319.765531</td>\n",
       "    </tr>\n",
       "    <tr>\n",
       "      <th>...</th>\n",
       "      <td>...</td>\n",
       "      <td>...</td>\n",
       "      <td>...</td>\n",
       "      <td>...</td>\n",
       "      <td>...</td>\n",
       "    </tr>\n",
       "    <tr>\n",
       "      <th>410</th>\n",
       "      <td>15-49 years</td>\n",
       "      <td>2019</td>\n",
       "      <td>2936.534187</td>\n",
       "      <td>3603.610956</td>\n",
       "      <td>2402.333155</td>\n",
       "    </tr>\n",
       "    <tr>\n",
       "      <th>412</th>\n",
       "      <td>50-69 years</td>\n",
       "      <td>2019</td>\n",
       "      <td>3553.764524</td>\n",
       "      <td>4379.229012</td>\n",
       "      <td>2883.750179</td>\n",
       "    </tr>\n",
       "    <tr>\n",
       "      <th>414</th>\n",
       "      <td>70+ years</td>\n",
       "      <td>2019</td>\n",
       "      <td>3071.316342</td>\n",
       "      <td>3849.582498</td>\n",
       "      <td>2449.096632</td>\n",
       "    </tr>\n",
       "    <tr>\n",
       "      <th>416</th>\n",
       "      <td>Age-standardized</td>\n",
       "      <td>2019</td>\n",
       "      <td>2379.932680</td>\n",
       "      <td>2780.599843</td>\n",
       "      <td>2055.683423</td>\n",
       "    </tr>\n",
       "    <tr>\n",
       "      <th>418</th>\n",
       "      <td>Under 5</td>\n",
       "      <td>2018</td>\n",
       "      <td>36.326469</td>\n",
       "      <td>52.271552</td>\n",
       "      <td>23.136642</td>\n",
       "    </tr>\n",
       "  </tbody>\n",
       "</table>\n",
       "<p>210 rows × 5 columns</p>\n",
       "</div>"
      ],
      "text/plain": [
       "            Age_group  Year   Prevalence  Upper_Prevalence  Lower_Prevalence\n",
       "0            All Ages  1990  2119.167993       2506.786409       1776.388591\n",
       "2          5-14 years  1990   836.212077       1173.169161        571.906311\n",
       "4         15-49 years  1990  3030.512681       3755.601033       2442.883933\n",
       "6         50-69 years  1990  3527.403044       4414.890055       2831.408876\n",
       "8           70+ years  1990  2952.169060       3771.075746       2319.765531\n",
       "..                ...   ...          ...               ...               ...\n",
       "410       15-49 years  2019  2936.534187       3603.610956       2402.333155\n",
       "412       50-69 years  2019  3553.764524       4379.229012       2883.750179\n",
       "414         70+ years  2019  3071.316342       3849.582498       2449.096632\n",
       "416  Age-standardized  2019  2379.932680       2780.599843       2055.683423\n",
       "418           Under 5  2018    36.326469         52.271552         23.136642\n",
       "\n",
       "[210 rows x 5 columns]"
      ]
     },
     "execution_count": 50,
     "metadata": {},
     "output_type": "execute_result"
    }
   ],
   "source": [
    "Prevalence_male"
   ]
  },
  {
   "cell_type": "code",
   "execution_count": 51,
   "id": "17993727-0c6a-4d7c-91ce-2c5faa0f2024",
   "metadata": {},
   "outputs": [
    {
     "data": {
      "text/html": [
       "<div>\n",
       "<style scoped>\n",
       "    .dataframe tbody tr th:only-of-type {\n",
       "        vertical-align: middle;\n",
       "    }\n",
       "\n",
       "    .dataframe tbody tr th {\n",
       "        vertical-align: top;\n",
       "    }\n",
       "\n",
       "    .dataframe thead th {\n",
       "        text-align: right;\n",
       "    }\n",
       "</style>\n",
       "<table border=\"1\" class=\"dataframe\">\n",
       "  <thead>\n",
       "    <tr style=\"text-align: right;\">\n",
       "      <th></th>\n",
       "      <th>Age_group</th>\n",
       "      <th>Year</th>\n",
       "      <th>Prevalence</th>\n",
       "      <th>Upper_Prevalence</th>\n",
       "      <th>Lower_Prevalence</th>\n",
       "    </tr>\n",
       "  </thead>\n",
       "  <tbody>\n",
       "    <tr>\n",
       "      <th>1</th>\n",
       "      <td>All Ages</td>\n",
       "      <td>1990</td>\n",
       "      <td>3155.730405</td>\n",
       "      <td>3725.667802</td>\n",
       "      <td>2658.664878</td>\n",
       "    </tr>\n",
       "    <tr>\n",
       "      <th>3</th>\n",
       "      <td>5-14 years</td>\n",
       "      <td>1990</td>\n",
       "      <td>1463.603951</td>\n",
       "      <td>2048.746596</td>\n",
       "      <td>1001.262322</td>\n",
       "    </tr>\n",
       "    <tr>\n",
       "      <th>5</th>\n",
       "      <td>15-49 years</td>\n",
       "      <td>1990</td>\n",
       "      <td>4491.288756</td>\n",
       "      <td>5573.491304</td>\n",
       "      <td>3639.631240</td>\n",
       "    </tr>\n",
       "    <tr>\n",
       "      <th>7</th>\n",
       "      <td>50-69 years</td>\n",
       "      <td>1990</td>\n",
       "      <td>4895.166220</td>\n",
       "      <td>6037.197186</td>\n",
       "      <td>3953.746125</td>\n",
       "    </tr>\n",
       "    <tr>\n",
       "      <th>9</th>\n",
       "      <td>70+ years</td>\n",
       "      <td>1990</td>\n",
       "      <td>4134.608629</td>\n",
       "      <td>5308.959155</td>\n",
       "      <td>3247.330349</td>\n",
       "    </tr>\n",
       "    <tr>\n",
       "      <th>...</th>\n",
       "      <td>...</td>\n",
       "      <td>...</td>\n",
       "      <td>...</td>\n",
       "      <td>...</td>\n",
       "      <td>...</td>\n",
       "    </tr>\n",
       "    <tr>\n",
       "      <th>411</th>\n",
       "      <td>15-49 years</td>\n",
       "      <td>2019</td>\n",
       "      <td>4516.681744</td>\n",
       "      <td>5471.708874</td>\n",
       "      <td>3729.066517</td>\n",
       "    </tr>\n",
       "    <tr>\n",
       "      <th>413</th>\n",
       "      <td>50-69 years</td>\n",
       "      <td>2019</td>\n",
       "      <td>4965.462068</td>\n",
       "      <td>6043.906421</td>\n",
       "      <td>4022.208314</td>\n",
       "    </tr>\n",
       "    <tr>\n",
       "      <th>415</th>\n",
       "      <td>70+ years</td>\n",
       "      <td>2019</td>\n",
       "      <td>4115.793904</td>\n",
       "      <td>5199.766066</td>\n",
       "      <td>3286.413317</td>\n",
       "    </tr>\n",
       "    <tr>\n",
       "      <th>417</th>\n",
       "      <td>Age-standardized</td>\n",
       "      <td>2019</td>\n",
       "      <td>3577.763987</td>\n",
       "      <td>4143.307368</td>\n",
       "      <td>3082.711145</td>\n",
       "    </tr>\n",
       "    <tr>\n",
       "      <th>419</th>\n",
       "      <td>Under 5</td>\n",
       "      <td>2018</td>\n",
       "      <td>65.742333</td>\n",
       "      <td>94.130049</td>\n",
       "      <td>43.212716</td>\n",
       "    </tr>\n",
       "  </tbody>\n",
       "</table>\n",
       "<p>210 rows × 5 columns</p>\n",
       "</div>"
      ],
      "text/plain": [
       "            Age_group  Year   Prevalence  Upper_Prevalence  Lower_Prevalence\n",
       "1            All Ages  1990  3155.730405       3725.667802       2658.664878\n",
       "3          5-14 years  1990  1463.603951       2048.746596       1001.262322\n",
       "5         15-49 years  1990  4491.288756       5573.491304       3639.631240\n",
       "7         50-69 years  1990  4895.166220       6037.197186       3953.746125\n",
       "9           70+ years  1990  4134.608629       5308.959155       3247.330349\n",
       "..                ...   ...          ...               ...               ...\n",
       "411       15-49 years  2019  4516.681744       5471.708874       3729.066517\n",
       "413       50-69 years  2019  4965.462068       6043.906421       4022.208314\n",
       "415         70+ years  2019  4115.793904       5199.766066       3286.413317\n",
       "417  Age-standardized  2019  3577.763987       4143.307368       3082.711145\n",
       "419           Under 5  2018    65.742333         94.130049         43.212716\n",
       "\n",
       "[210 rows x 5 columns]"
      ]
     },
     "execution_count": 51,
     "metadata": {},
     "output_type": "execute_result"
    }
   ],
   "source": [
    "Prevalence_female"
   ]
  },
  {
   "cell_type": "code",
   "execution_count": 52,
   "id": "912d426b-5a87-4325-910f-68a3ff399615",
   "metadata": {},
   "outputs": [
    {
     "data": {
      "text/html": [
       "<div>\n",
       "<style scoped>\n",
       "    .dataframe tbody tr th:only-of-type {\n",
       "        vertical-align: middle;\n",
       "    }\n",
       "\n",
       "    .dataframe tbody tr th {\n",
       "        vertical-align: top;\n",
       "    }\n",
       "\n",
       "    .dataframe thead th {\n",
       "        text-align: right;\n",
       "    }\n",
       "</style>\n",
       "<table border=\"1\" class=\"dataframe\">\n",
       "  <thead>\n",
       "    <tr style=\"text-align: right;\">\n",
       "      <th></th>\n",
       "      <th>Lower_Prevalence</th>\n",
       "      <th>Prevalence</th>\n",
       "      <th>Upper_Prevalence</th>\n",
       "    </tr>\n",
       "    <tr>\n",
       "      <th>Year</th>\n",
       "      <th></th>\n",
       "      <th></th>\n",
       "      <th></th>\n",
       "    </tr>\n",
       "  </thead>\n",
       "  <tbody>\n",
       "    <tr>\n",
       "      <th>1990</th>\n",
       "      <td>1717.097590</td>\n",
       "      <td>2132.382225</td>\n",
       "      <td>2646.933982</td>\n",
       "    </tr>\n",
       "    <tr>\n",
       "      <th>1991</th>\n",
       "      <td>1716.935868</td>\n",
       "      <td>2132.887362</td>\n",
       "      <td>2646.926585</td>\n",
       "    </tr>\n",
       "    <tr>\n",
       "      <th>1992</th>\n",
       "      <td>1713.737495</td>\n",
       "      <td>2129.399323</td>\n",
       "      <td>2640.781397</td>\n",
       "    </tr>\n",
       "    <tr>\n",
       "      <th>1993</th>\n",
       "      <td>1707.701057</td>\n",
       "      <td>2122.515612</td>\n",
       "      <td>2632.733578</td>\n",
       "    </tr>\n",
       "    <tr>\n",
       "      <th>1994</th>\n",
       "      <td>1698.642225</td>\n",
       "      <td>2112.799106</td>\n",
       "      <td>2621.861128</td>\n",
       "    </tr>\n",
       "    <tr>\n",
       "      <th>1995</th>\n",
       "      <td>1688.196988</td>\n",
       "      <td>2100.862971</td>\n",
       "      <td>2610.187370</td>\n",
       "    </tr>\n",
       "    <tr>\n",
       "      <th>1996</th>\n",
       "      <td>1660.832396</td>\n",
       "      <td>2064.037620</td>\n",
       "      <td>2563.152680</td>\n",
       "    </tr>\n",
       "    <tr>\n",
       "      <th>1997</th>\n",
       "      <td>1606.122274</td>\n",
       "      <td>1994.507074</td>\n",
       "      <td>2475.721340</td>\n",
       "    </tr>\n",
       "    <tr>\n",
       "      <th>1998</th>\n",
       "      <td>1546.990613</td>\n",
       "      <td>1915.727441</td>\n",
       "      <td>2373.710270</td>\n",
       "    </tr>\n",
       "    <tr>\n",
       "      <th>1999</th>\n",
       "      <td>1495.876477</td>\n",
       "      <td>1851.240778</td>\n",
       "      <td>2289.041585</td>\n",
       "    </tr>\n",
       "  </tbody>\n",
       "</table>\n",
       "</div>"
      ],
      "text/plain": [
       "      Lower_Prevalence   Prevalence  Upper_Prevalence\n",
       "Year                                                 \n",
       "1990       1717.097590  2132.382225       2646.933982\n",
       "1991       1716.935868  2132.887362       2646.926585\n",
       "1992       1713.737495  2129.399323       2640.781397\n",
       "1993       1707.701057  2122.515612       2632.733578\n",
       "1994       1698.642225  2112.799106       2621.861128\n",
       "1995       1688.196988  2100.862971       2610.187370\n",
       "1996       1660.832396  2064.037620       2563.152680\n",
       "1997       1606.122274  1994.507074       2475.721340\n",
       "1998       1546.990613  1915.727441       2373.710270\n",
       "1999       1495.876477  1851.240778       2289.041585"
      ]
     },
     "execution_count": 52,
     "metadata": {},
     "output_type": "execute_result"
    }
   ],
   "source": [
    "Prevalence_male_average = pd.pivot_table(Prevalence_male, values= ['Prevalence', 'Upper_Prevalence', 'Lower_Prevalence'], index = 'Year', aggfunc= np.average)\n",
    "Prevalence_female_average = pd.pivot_table(Prevalence_female, values= ['Prevalence', 'Upper_Prevalence', 'Lower_Prevalence'], index = 'Year', aggfunc= np.average)\n",
    "Prevalence_male_average.head(10)"
   ]
  },
  {
   "cell_type": "markdown",
   "id": "61303838-3c39-4b13-8940-0529e936e26a",
   "metadata": {},
   "source": [
    "### 3. Incidence (rate per 100,000 population):"
   ]
  },
  {
   "cell_type": "code",
   "execution_count": 53,
   "id": "07e1b7e8-eec6-4375-a1c4-6b529da1dcf2",
   "metadata": {},
   "outputs": [
    {
     "data": {
      "text/html": [
       "<div>\n",
       "<style scoped>\n",
       "    .dataframe tbody tr th:only-of-type {\n",
       "        vertical-align: middle;\n",
       "    }\n",
       "\n",
       "    .dataframe tbody tr th {\n",
       "        vertical-align: top;\n",
       "    }\n",
       "\n",
       "    .dataframe thead th {\n",
       "        text-align: right;\n",
       "    }\n",
       "</style>\n",
       "<table border=\"1\" class=\"dataframe\">\n",
       "  <thead>\n",
       "    <tr style=\"text-align: right;\">\n",
       "      <th></th>\n",
       "      <th>Sex</th>\n",
       "      <th>Age_group</th>\n",
       "      <th>Year</th>\n",
       "      <th>Incidence</th>\n",
       "      <th>Upper_Incidence</th>\n",
       "      <th>Lower_Incidence</th>\n",
       "    </tr>\n",
       "  </thead>\n",
       "  <tbody>\n",
       "    <tr>\n",
       "      <th>0</th>\n",
       "      <td>Male</td>\n",
       "      <td>Under 5</td>\n",
       "      <td>1990</td>\n",
       "      <td>33.463588</td>\n",
       "      <td>48.482666</td>\n",
       "      <td>20.775383</td>\n",
       "    </tr>\n",
       "    <tr>\n",
       "      <th>1</th>\n",
       "      <td>Female</td>\n",
       "      <td>Under 5</td>\n",
       "      <td>1990</td>\n",
       "      <td>58.222362</td>\n",
       "      <td>83.507251</td>\n",
       "      <td>37.393510</td>\n",
       "    </tr>\n",
       "    <tr>\n",
       "      <th>2</th>\n",
       "      <td>Male</td>\n",
       "      <td>All Ages</td>\n",
       "      <td>1990</td>\n",
       "      <td>395.331849</td>\n",
       "      <td>481.074645</td>\n",
       "      <td>318.964402</td>\n",
       "    </tr>\n",
       "    <tr>\n",
       "      <th>3</th>\n",
       "      <td>Female</td>\n",
       "      <td>All Ages</td>\n",
       "      <td>1990</td>\n",
       "      <td>539.527232</td>\n",
       "      <td>653.848575</td>\n",
       "      <td>430.532364</td>\n",
       "    </tr>\n",
       "    <tr>\n",
       "      <th>4</th>\n",
       "      <td>Male</td>\n",
       "      <td>5-14 years</td>\n",
       "      <td>1990</td>\n",
       "      <td>271.249279</td>\n",
       "      <td>369.562729</td>\n",
       "      <td>195.686573</td>\n",
       "    </tr>\n",
       "  </tbody>\n",
       "</table>\n",
       "</div>"
      ],
      "text/plain": [
       "      Sex   Age_group  Year   Incidence  Upper_Incidence  Lower_Incidence\n",
       "0    Male     Under 5  1990   33.463588        48.482666        20.775383\n",
       "1  Female     Under 5  1990   58.222362        83.507251        37.393510\n",
       "2    Male    All Ages  1990  395.331849       481.074645       318.964402\n",
       "3  Female    All Ages  1990  539.527232       653.848575       430.532364\n",
       "4    Male  5-14 years  1990  271.249279       369.562729       195.686573"
      ]
     },
     "execution_count": 53,
     "metadata": {},
     "output_type": "execute_result"
    }
   ],
   "source": [
    "Incidence.drop(Incidence[['location', 'measure', 'metric', 'cause']], inplace=True, axis=1)\n",
    "Incidence.columns= ['Sex', 'Age_group', 'Year', 'Incidence', 'Upper_Incidence', 'Lower_Incidence']\n",
    "Incidence.head()"
   ]
  },
  {
   "cell_type": "code",
   "execution_count": 54,
   "id": "725fbede-a01e-4127-b1aa-6f5091f97a77",
   "metadata": {},
   "outputs": [
    {
     "name": "stdout",
     "output_type": "stream",
     "text": [
      "Incidence for Males: \n",
      "\n",
      "      Age_group  Year   Incidence  Upper_Incidence  Lower_Incidence\n",
      "0      Under 5  1990   33.463588        48.482666        20.775383\n",
      "2     All Ages  1990  395.331849       481.074645       318.964402\n",
      "4   5-14 years  1990  271.249279       369.562729       195.686573\n",
      "6  15-49 years  1990  539.638427       692.296937       409.739934\n",
      "8  50-69 years  1990  515.596664       702.005896       362.074613\n",
      "\n",
      "\n",
      "\n",
      "Incidence for Females: \n",
      "\n",
      "      Age_group  Year   Incidence  Upper_Incidence  Lower_Incidence\n",
      "1      Under 5  1990   58.222362        83.507251        37.393510\n",
      "3     All Ages  1990  539.527232       653.848575       430.532364\n",
      "5   5-14 years  1990  448.017729       607.181715       324.088095\n",
      "7  15-49 years  1990  731.248083       949.665379       545.504113\n",
      "9  50-69 years  1990  555.637220       779.984508       385.723961\n"
     ]
    }
   ],
   "source": [
    "Incidence_male = Incidence[(Incidence.Sex == 'Male')]\n",
    "Incidence_male = Incidence_male.drop('Sex', axis = 1)\n",
    "\n",
    "Incidence_female = Incidence[(Incidence.Sex == 'Female')]\n",
    "Incidence_female = Incidence_female.drop('Sex', axis = 1)\n",
    "\n",
    "\n",
    "print(\"Incidence for Males: \\n\\n\", Incidence_male.head())\n",
    "print(\"\\n\\n\\nIncidence for Females: \\n\\n\", Incidence_female.head())"
   ]
  },
  {
   "cell_type": "markdown",
   "id": "916acfb0-68b4-42db-9bf6-6285a7f7740b",
   "metadata": {},
   "source": [
    "# Data Description:\n",
    "The description of all the tables is given in this section. "
   ]
  },
  {
   "cell_type": "code",
   "execution_count": 55,
   "id": "0b642a8d-35d8-45fc-8eb7-e8f04342d9a8",
   "metadata": {},
   "outputs": [
    {
     "name": "stdout",
     "output_type": "stream",
     "text": [
      "<class 'pandas.core.frame.DataFrame'>\n",
      "RangeIndex: 420 entries, 0 to 419\n",
      "Data columns (total 6 columns):\n",
      " #   Column      Non-Null Count  Dtype  \n",
      "---  ------      --------------  -----  \n",
      " 0   Sex         420 non-null    object \n",
      " 1   Age_group   420 non-null    object \n",
      " 2   Year        420 non-null    int64  \n",
      " 3   Daly        420 non-null    float64\n",
      " 4   Upper_Daly  420 non-null    float64\n",
      " 5   Lower_Daly  420 non-null    float64\n",
      "dtypes: float64(3), int64(1), object(2)\n",
      "memory usage: 19.8+ KB\n"
     ]
    }
   ],
   "source": [
    "Daly.info()"
   ]
  },
  {
   "cell_type": "markdown",
   "id": "cbea2b7a-efe0-4c85-80fe-0cd9c78330a1",
   "metadata": {},
   "source": [
    "##### We can see that sex and age are object, that is categorical variables and Year is an integer."
   ]
  },
  {
   "cell_type": "code",
   "execution_count": 56,
   "id": "160bb834-1f45-4bb9-9125-f2e28447c1a2",
   "metadata": {},
   "outputs": [
    {
     "data": {
      "text/html": [
       "<div>\n",
       "<style scoped>\n",
       "    .dataframe tbody tr th:only-of-type {\n",
       "        vertical-align: middle;\n",
       "    }\n",
       "\n",
       "    .dataframe tbody tr th {\n",
       "        vertical-align: top;\n",
       "    }\n",
       "\n",
       "    .dataframe thead th {\n",
       "        text-align: right;\n",
       "    }\n",
       "</style>\n",
       "<table border=\"1\" class=\"dataframe\">\n",
       "  <thead>\n",
       "    <tr style=\"text-align: right;\">\n",
       "      <th></th>\n",
       "      <th>Year</th>\n",
       "      <th>Daly</th>\n",
       "      <th>Upper_Daly</th>\n",
       "      <th>Lower_Daly</th>\n",
       "    </tr>\n",
       "  </thead>\n",
       "  <tbody>\n",
       "    <tr>\n",
       "      <th>count</th>\n",
       "      <td>420.000000</td>\n",
       "      <td>420.000000</td>\n",
       "      <td>420.000000</td>\n",
       "      <td>420.000000</td>\n",
       "    </tr>\n",
       "    <tr>\n",
       "      <th>mean</th>\n",
       "      <td>2004.500000</td>\n",
       "      <td>236.274960</td>\n",
       "      <td>329.279125</td>\n",
       "      <td>161.240517</td>\n",
       "    </tr>\n",
       "    <tr>\n",
       "      <th>std</th>\n",
       "      <td>8.665764</td>\n",
       "      <td>132.464796</td>\n",
       "      <td>181.300714</td>\n",
       "      <td>92.383770</td>\n",
       "    </tr>\n",
       "    <tr>\n",
       "      <th>min</th>\n",
       "      <td>1990.000000</td>\n",
       "      <td>2.638826</td>\n",
       "      <td>4.322301</td>\n",
       "      <td>1.485471</td>\n",
       "    </tr>\n",
       "    <tr>\n",
       "      <th>25%</th>\n",
       "      <td>1997.000000</td>\n",
       "      <td>145.277009</td>\n",
       "      <td>218.831492</td>\n",
       "      <td>89.364481</td>\n",
       "    </tr>\n",
       "    <tr>\n",
       "      <th>50%</th>\n",
       "      <td>2004.500000</td>\n",
       "      <td>249.740508</td>\n",
       "      <td>351.946519</td>\n",
       "      <td>170.569590</td>\n",
       "    </tr>\n",
       "    <tr>\n",
       "      <th>75%</th>\n",
       "      <td>2012.000000</td>\n",
       "      <td>338.791586</td>\n",
       "      <td>456.325625</td>\n",
       "      <td>230.340109</td>\n",
       "    </tr>\n",
       "    <tr>\n",
       "      <th>max</th>\n",
       "      <td>2019.000000</td>\n",
       "      <td>449.916364</td>\n",
       "      <td>617.507497</td>\n",
       "      <td>314.247831</td>\n",
       "    </tr>\n",
       "  </tbody>\n",
       "</table>\n",
       "</div>"
      ],
      "text/plain": [
       "              Year        Daly  Upper_Daly  Lower_Daly\n",
       "count   420.000000  420.000000  420.000000  420.000000\n",
       "mean   2004.500000  236.274960  329.279125  161.240517\n",
       "std       8.665764  132.464796  181.300714   92.383770\n",
       "min    1990.000000    2.638826    4.322301    1.485471\n",
       "25%    1997.000000  145.277009  218.831492   89.364481\n",
       "50%    2004.500000  249.740508  351.946519  170.569590\n",
       "75%    2012.000000  338.791586  456.325625  230.340109\n",
       "max    2019.000000  449.916364  617.507497  314.247831"
      ]
     },
     "execution_count": 56,
     "metadata": {},
     "output_type": "execute_result"
    }
   ],
   "source": [
    "Daly.describe()"
   ]
  },
  {
   "cell_type": "markdown",
   "id": "ea6f33a0-f255-40bb-8e5a-2162f48b7d15",
   "metadata": {},
   "source": [
    "# Visualisation:"
   ]
  },
  {
   "cell_type": "markdown",
   "id": "091c1331-49c9-403b-b56d-3b357cd8fd22",
   "metadata": {},
   "source": [
    "### To compare the average Daly in India for males and females:"
   ]
  },
  {
   "cell_type": "markdown",
   "id": "3c80fae1-c6f6-433a-b2d7-9f3764618b7b",
   "metadata": {},
   "source": [
    "### Bar graph:"
   ]
  },
  {
   "cell_type": "code",
   "execution_count": 57,
   "id": "72f2cb8f-929e-4eac-9009-2f1a4109e646",
   "metadata": {},
   "outputs": [
    {
     "data": {
      "image/png": "[encoded data removed]",
      "text/plain": [
       "<Figure size 720x432 with 1 Axes>"
      ]
     },
     "metadata": {
      "needs_background": "light"
     },
     "output_type": "display_data"
    }
   ],
   "source": [
    "X = Daly_female_average.index\n",
    "X_axis = np.arange(len(Daly_female_average.index))\n",
    "plt.subplots(figsize = (10,6))\n",
    "plt.bar(X_axis - 0.2, Daly_male_average['Daly'], 0.4, label = 'Males')\n",
    "plt.bar(X_axis + 0.2, Daly_female_average['Daly'], 0.4, label = 'Females')\n",
    "plt.xticks(X_axis, X)\n",
    "plt.xlabel(\"Age Groups\", fontsize = 13)\n",
    "plt.ylabel(\"Average Daly\", fontsize = 13)\n",
    "plt.title(\"Average Daly for Males and Females\", fontsize = 20)\n",
    "plt.legend()\n",
    "plt.show()"
   ]
  },
  {
   "cell_type": "markdown",
   "id": "35e7beda-9109-4dc3-9cf5-2ee6885594d6",
   "metadata": {},
   "source": [
    "### Boxplot:"
   ]
  },
  {
   "cell_type": "code",
   "execution_count": 58,
   "id": "91cdcfd7-2886-4dee-a3d8-60cbabced0e3",
   "metadata": {},
   "outputs": [
    {
     "data": {
      "text/plain": [
       "<AxesSubplot:xlabel='Age_group', ylabel='Daly'>"
      ]
     },
     "execution_count": 58,
     "metadata": {},
     "output_type": "execute_result"
    },
    {
     "data": {
      "image/png": "[encoded data removed]",
      "text/plain": [
       "<Figure size 720x396 with 1 Axes>"
      ]
     },
     "metadata": {
      "needs_background": "light"
     },
     "output_type": "display_data"
    }
   ],
   "source": [
    "plt.rcParams[\"figure.figsize\"] = [10.00, 5.50]\n",
    "plt.rcParams[\"figure.autolayout\"] = True\n",
    "sns.boxplot(x = 'Age_group',\n",
    "            y = 'Daly',\n",
    "            data = Daly,\n",
    "            hue= 'Sex')"
   ]
  },
  {
   "cell_type": "markdown",
   "id": "a608d371-cd26-453d-9946-983c3246557e",
   "metadata": {},
   "source": [
    "### Interpretation:\n",
    "* From the above graphs we can see that the average Daly due to anxiety for females is significantly more than that for males for all the age-groups.\n",
    "* For the 'Under 5' age groups, there is hardly any difference in Daly due to anxiety.\n",
    "* Maximum difference is seen for the age-group '70+ years'."
   ]
  },
  {
   "cell_type": "markdown",
   "id": "a0a3b2c4-27b3-42c3-9de6-f939e2799938",
   "metadata": {},
   "source": [
    "### To compare the average Prevalence of anxiety in India for males and females over the years 1990 and 2019:"
   ]
  },
  {
   "cell_type": "code",
   "execution_count": 59,
   "id": "2d6bea38-f70c-4024-a1db-de99f3cc20e0",
   "metadata": {},
   "outputs": [
    {
     "data": {
      "image/png": "[encoded data removed]",
      "text/plain": [
       "<Figure size 720x504 with 1 Axes>"
      ]
     },
     "metadata": {
      "needs_background": "light"
     },
     "output_type": "display_data"
    }
   ],
   "source": [
    "plt.subplots(figsize = (10,7))\n",
    "plt.plot(Prevalence_male_average.index, Prevalence_male_average['Prevalence'], label = 'Males')\n",
    "plt.plot(Prevalence_female_average.index, Prevalence_female_average['Prevalence'], label = 'Females')\n",
    "\n",
    "plt.xlabel(\"Year\", fontsize = 13)\n",
    "plt.ylabel(\"Average Prevalence\", fontsize = 13)\n",
    "plt.title(\"Average Prevalence for Males and Females\", fontsize = 20)\n",
    "plt.legend()\n",
    "plt.show()"
   ]
  },
  {
   "cell_type": "markdown",
   "id": "bd514493-3940-4040-885b-a255fa6edbd2",
   "metadata": {},
   "source": [
    "### Interpretation:"
   ]
  },
  {
   "cell_type": "markdown",
   "id": "44345b15-4c34-44b0-945e-802b571b9809",
   "metadata": {},
   "source": [
    "* We can see that there is significant difference between the average Prevalence of anxiety in males and females.\n",
    "* They follow the same pattern and the difference has not changed much over the years\n"
   ]
  },
  {
   "cell_type": "markdown",
   "id": "86448ac2-b719-4bc5-aac4-12aa1763a4a5",
   "metadata": {},
   "source": [
    "### Trend of the average prevalence of anxiety:"
   ]
  },
  {
   "cell_type": "code",
   "execution_count": 60,
   "id": "f1cb905a-a758-44ab-9fea-7a2bba11d038",
   "metadata": {},
   "outputs": [
    {
     "data": {
      "text/html": [
       "<div>\n",
       "<style scoped>\n",
       "    .dataframe tbody tr th:only-of-type {\n",
       "        vertical-align: middle;\n",
       "    }\n",
       "\n",
       "    .dataframe tbody tr th {\n",
       "        vertical-align: top;\n",
       "    }\n",
       "\n",
       "    .dataframe thead th {\n",
       "        text-align: right;\n",
       "    }\n",
       "</style>\n",
       "<table border=\"1\" class=\"dataframe\">\n",
       "  <thead>\n",
       "    <tr style=\"text-align: right;\">\n",
       "      <th></th>\n",
       "      <th>Lower_Prevalence</th>\n",
       "      <th>Prevalence</th>\n",
       "      <th>Upper_Prevalence</th>\n",
       "    </tr>\n",
       "    <tr>\n",
       "      <th>Year</th>\n",
       "      <th></th>\n",
       "      <th></th>\n",
       "      <th></th>\n",
       "    </tr>\n",
       "  </thead>\n",
       "  <tbody>\n",
       "    <tr>\n",
       "      <th>2000</th>\n",
       "      <td>2408.279836</td>\n",
       "      <td>2965.388885</td>\n",
       "      <td>3644.815448</td>\n",
       "    </tr>\n",
       "    <tr>\n",
       "      <th>1999</th>\n",
       "      <td>2412.600594</td>\n",
       "      <td>2968.434410</td>\n",
       "      <td>3647.169730</td>\n",
       "    </tr>\n",
       "    <tr>\n",
       "      <th>2001</th>\n",
       "      <td>2416.134338</td>\n",
       "      <td>2973.331681</td>\n",
       "      <td>3652.003187</td>\n",
       "    </tr>\n",
       "  </tbody>\n",
       "</table>\n",
       "</div>"
      ],
      "text/plain": [
       "      Lower_Prevalence   Prevalence  Upper_Prevalence\n",
       "Year                                                 \n",
       "2000       2408.279836  2965.388885       3644.815448\n",
       "1999       2412.600594  2968.434410       3647.169730\n",
       "2001       2416.134338  2973.331681       3652.003187"
      ]
     },
     "execution_count": 60,
     "metadata": {},
     "output_type": "execute_result"
    }
   ],
   "source": [
    "Prevalence_female_average.sort_values(by = 'Prevalence').head(3)"
   ]
  },
  {
   "cell_type": "code",
   "execution_count": 61,
   "id": "e9c3060c-bb07-4000-a1a6-dd711209afea",
   "metadata": {},
   "outputs": [
    {
     "data": {
      "text/html": [
       "<div>\n",
       "<style scoped>\n",
       "    .dataframe tbody tr th:only-of-type {\n",
       "        vertical-align: middle;\n",
       "    }\n",
       "\n",
       "    .dataframe tbody tr th {\n",
       "        vertical-align: top;\n",
       "    }\n",
       "\n",
       "    .dataframe thead th {\n",
       "        text-align: right;\n",
       "    }\n",
       "</style>\n",
       "<table border=\"1\" class=\"dataframe\">\n",
       "  <thead>\n",
       "    <tr style=\"text-align: right;\">\n",
       "      <th></th>\n",
       "      <th>Lower_Prevalence</th>\n",
       "      <th>Prevalence</th>\n",
       "      <th>Upper_Prevalence</th>\n",
       "    </tr>\n",
       "    <tr>\n",
       "      <th>Year</th>\n",
       "      <th></th>\n",
       "      <th></th>\n",
       "      <th></th>\n",
       "    </tr>\n",
       "  </thead>\n",
       "  <tbody>\n",
       "    <tr>\n",
       "      <th>2015</th>\n",
       "      <td>2695.235353</td>\n",
       "      <td>3298.350180</td>\n",
       "      <td>4041.336874</td>\n",
       "    </tr>\n",
       "    <tr>\n",
       "      <th>2016</th>\n",
       "      <td>2704.678932</td>\n",
       "      <td>3307.218277</td>\n",
       "      <td>4048.269771</td>\n",
       "    </tr>\n",
       "    <tr>\n",
       "      <th>2017</th>\n",
       "      <td>2710.406404</td>\n",
       "      <td>3313.221581</td>\n",
       "      <td>4051.982816</td>\n",
       "    </tr>\n",
       "  </tbody>\n",
       "</table>\n",
       "</div>"
      ],
      "text/plain": [
       "      Lower_Prevalence   Prevalence  Upper_Prevalence\n",
       "Year                                                 \n",
       "2015       2695.235353  3298.350180       4041.336874\n",
       "2016       2704.678932  3307.218277       4048.269771\n",
       "2017       2710.406404  3313.221581       4051.982816"
      ]
     },
     "execution_count": 61,
     "metadata": {},
     "output_type": "execute_result"
    }
   ],
   "source": [
    "Prevalence_female_average.sort_values(by = 'Prevalence').tail(3)"
   ]
  },
  {
   "cell_type": "code",
   "execution_count": 62,
   "id": "3acdac21-86e4-4929-93ac-584959031881",
   "metadata": {},
   "outputs": [
    {
     "data": {
      "text/html": [
       "<div>\n",
       "<style scoped>\n",
       "    .dataframe tbody tr th:only-of-type {\n",
       "        vertical-align: middle;\n",
       "    }\n",
       "\n",
       "    .dataframe tbody tr th {\n",
       "        vertical-align: top;\n",
       "    }\n",
       "\n",
       "    .dataframe thead th {\n",
       "        text-align: right;\n",
       "    }\n",
       "</style>\n",
       "<table border=\"1\" class=\"dataframe\">\n",
       "  <thead>\n",
       "    <tr style=\"text-align: right;\">\n",
       "      <th></th>\n",
       "      <th>Lower_Prevalence</th>\n",
       "      <th>Prevalence</th>\n",
       "      <th>Upper_Prevalence</th>\n",
       "    </tr>\n",
       "    <tr>\n",
       "      <th>Year</th>\n",
       "      <th></th>\n",
       "      <th></th>\n",
       "      <th></th>\n",
       "    </tr>\n",
       "  </thead>\n",
       "  <tbody>\n",
       "    <tr>\n",
       "      <th>1990</th>\n",
       "      <td>2114.089617</td>\n",
       "      <td>2621.390567</td>\n",
       "      <td>3249.134028</td>\n",
       "    </tr>\n",
       "    <tr>\n",
       "      <th>1991</th>\n",
       "      <td>2109.953898</td>\n",
       "      <td>2614.299587</td>\n",
       "      <td>3238.591344</td>\n",
       "    </tr>\n",
       "    <tr>\n",
       "      <th>1992</th>\n",
       "      <td>2104.108821</td>\n",
       "      <td>2605.409149</td>\n",
       "      <td>3226.590918</td>\n",
       "    </tr>\n",
       "    <tr>\n",
       "      <th>1993</th>\n",
       "      <td>2096.854058</td>\n",
       "      <td>2595.265932</td>\n",
       "      <td>3213.214509</td>\n",
       "    </tr>\n",
       "    <tr>\n",
       "      <th>1994</th>\n",
       "      <td>2086.900445</td>\n",
       "      <td>2584.384744</td>\n",
       "      <td>3200.232501</td>\n",
       "    </tr>\n",
       "    <tr>\n",
       "      <th>1995</th>\n",
       "      <td>2076.611785</td>\n",
       "      <td>2573.345843</td>\n",
       "      <td>3188.505142</td>\n",
       "    </tr>\n",
       "    <tr>\n",
       "      <th>1996</th>\n",
       "      <td>2058.524493</td>\n",
       "      <td>2547.386893</td>\n",
       "      <td>3153.464241</td>\n",
       "    </tr>\n",
       "    <tr>\n",
       "      <th>1997</th>\n",
       "      <td>2023.689554</td>\n",
       "      <td>2501.280288</td>\n",
       "      <td>3092.685662</td>\n",
       "    </tr>\n",
       "    <tr>\n",
       "      <th>1998</th>\n",
       "      <td>1986.669521</td>\n",
       "      <td>2450.334170</td>\n",
       "      <td>3022.115397</td>\n",
       "    </tr>\n",
       "    <tr>\n",
       "      <th>1999</th>\n",
       "      <td>1954.238536</td>\n",
       "      <td>2409.837594</td>\n",
       "      <td>2968.105657</td>\n",
       "    </tr>\n",
       "  </tbody>\n",
       "</table>\n",
       "</div>"
      ],
      "text/plain": [
       "      Lower_Prevalence   Prevalence  Upper_Prevalence\n",
       "Year                                                 \n",
       "1990       2114.089617  2621.390567       3249.134028\n",
       "1991       2109.953898  2614.299587       3238.591344\n",
       "1992       2104.108821  2605.409149       3226.590918\n",
       "1993       2096.854058  2595.265932       3213.214509\n",
       "1994       2086.900445  2584.384744       3200.232501\n",
       "1995       2076.611785  2573.345843       3188.505142\n",
       "1996       2058.524493  2547.386893       3153.464241\n",
       "1997       2023.689554  2501.280288       3092.685662\n",
       "1998       1986.669521  2450.334170       3022.115397\n",
       "1999       1954.238536  2409.837594       2968.105657"
      ]
     },
     "execution_count": 62,
     "metadata": {},
     "output_type": "execute_result"
    }
   ],
   "source": [
    "Prevalence_average = pd.pivot_table(Prevalence, values= ['Prevalence', 'Upper_Prevalence', 'Lower_Prevalence'], index = 'Year', aggfunc= np.average)\n",
    "Prevalence_average.head(10)"
   ]
  },
  {
   "cell_type": "code",
   "execution_count": 63,
   "id": "1e57f292-88bb-4eb9-b837-8476ef186522",
   "metadata": {},
   "outputs": [
    {
     "data": {
      "image/png": "[encoded data removed]",
      "text/plain": [
       "<Figure size 720x504 with 1 Axes>"
      ]
     },
     "metadata": {
      "needs_background": "light"
     },
     "output_type": "display_data"
    }
   ],
   "source": [
    "fig = plt.figure(figsize= (10,7))\n",
    "ax1 = fig.add_subplot(111)\n",
    "\n",
    "ax1.scatter(Prevalence_average.index, Prevalence_average['Prevalence'], s=10, c='b', marker=\"o\", label='Prevalence')\n",
    "ax1.scatter(Prevalence_average.index, Prevalence_average['Upper_Prevalence'], s=10, c='r', marker=\"o\", label='Upper Prevalence')\n",
    "ax1.scatter(Prevalence_average.index, Prevalence_average['Lower_Prevalence'], s=10, c='g', marker=\"o\", label='Lower Prevalence')\n",
    "\n",
    "plt.title(\"Upper and lower rates for Prevalence of anxiety\", fontsize = 20)\n",
    "plt.xlabel(\"Year\", fontsize = 15)\n",
    "plt.ylabel(\"Prevalence rate per 100,000 population\", fontsize = 15)\n",
    "plt.legend()\n",
    "plt.show()"
   ]
  },
  {
   "cell_type": "markdown",
   "id": "54ef9017-ecbf-4fd2-8aec-db6a5b33b789",
   "metadata": {},
   "source": [
    "### Interpretation:\n",
    "There is a significant difference between the prevalence rate and its lower and upper values."
   ]
  },
  {
   "cell_type": "markdown",
   "id": "ed369db5-59f6-4a03-8992-a6330a0ea0ac",
   "metadata": {},
   "source": [
    "### Trend of the average incidences of anxiety:"
   ]
  },
  {
   "cell_type": "code",
   "execution_count": 64,
   "id": "4babd7dd-2667-42c0-8b74-1798b4c3f5d4",
   "metadata": {},
   "outputs": [],
   "source": [
    "Incidence_male_average = pd.pivot_table(Incidence_male, values= 'Incidence', index = 'Year', aggfunc= np.average)\n",
    "Incidence_female_average = pd.pivot_table(Incidence_female, values= 'Incidence', index = 'Year', aggfunc= np.average)"
   ]
  },
  {
   "cell_type": "code",
   "execution_count": 65,
   "id": "eb521b06-0dba-4221-b492-0d42d68c3417",
   "metadata": {},
   "outputs": [
    {
     "data": {
      "text/html": [
       "<div>\n",
       "<style scoped>\n",
       "    .dataframe tbody tr th:only-of-type {\n",
       "        vertical-align: middle;\n",
       "    }\n",
       "\n",
       "    .dataframe tbody tr th {\n",
       "        vertical-align: top;\n",
       "    }\n",
       "\n",
       "    .dataframe thead th {\n",
       "        text-align: right;\n",
       "    }\n",
       "</style>\n",
       "<table border=\"1\" class=\"dataframe\">\n",
       "  <thead>\n",
       "    <tr style=\"text-align: right;\">\n",
       "      <th></th>\n",
       "      <th>Incidence</th>\n",
       "      <th>Lower_Incidence</th>\n",
       "      <th>Upper_Incidence</th>\n",
       "    </tr>\n",
       "    <tr>\n",
       "      <th>Year</th>\n",
       "      <th></th>\n",
       "      <th></th>\n",
       "      <th></th>\n",
       "    </tr>\n",
       "  </thead>\n",
       "  <tbody>\n",
       "    <tr>\n",
       "      <th>1990</th>\n",
       "      <td>400.345499</td>\n",
       "      <td>301.570724</td>\n",
       "      <td>519.425138</td>\n",
       "    </tr>\n",
       "    <tr>\n",
       "      <th>1991</th>\n",
       "      <td>399.447169</td>\n",
       "      <td>300.953808</td>\n",
       "      <td>518.124793</td>\n",
       "    </tr>\n",
       "    <tr>\n",
       "      <th>1992</th>\n",
       "      <td>398.159894</td>\n",
       "      <td>300.232088</td>\n",
       "      <td>516.501261</td>\n",
       "    </tr>\n",
       "    <tr>\n",
       "      <th>1993</th>\n",
       "      <td>396.589441</td>\n",
       "      <td>298.957277</td>\n",
       "      <td>514.279687</td>\n",
       "    </tr>\n",
       "    <tr>\n",
       "      <th>1994</th>\n",
       "      <td>394.813168</td>\n",
       "      <td>298.081795</td>\n",
       "      <td>511.575770</td>\n",
       "    </tr>\n",
       "    <tr>\n",
       "      <th>1995</th>\n",
       "      <td>392.926724</td>\n",
       "      <td>296.741493</td>\n",
       "      <td>508.712799</td>\n",
       "    </tr>\n",
       "    <tr>\n",
       "      <th>1996</th>\n",
       "      <td>388.172415</td>\n",
       "      <td>293.274669</td>\n",
       "      <td>502.313576</td>\n",
       "    </tr>\n",
       "    <tr>\n",
       "      <th>1997</th>\n",
       "      <td>379.682273</td>\n",
       "      <td>286.866596</td>\n",
       "      <td>491.063969</td>\n",
       "    </tr>\n",
       "    <tr>\n",
       "      <th>1998</th>\n",
       "      <td>370.236077</td>\n",
       "      <td>279.674700</td>\n",
       "      <td>479.140059</td>\n",
       "    </tr>\n",
       "    <tr>\n",
       "      <th>1999</th>\n",
       "      <td>362.617606</td>\n",
       "      <td>274.098450</td>\n",
       "      <td>469.169022</td>\n",
       "    </tr>\n",
       "  </tbody>\n",
       "</table>\n",
       "</div>"
      ],
      "text/plain": [
       "       Incidence  Lower_Incidence  Upper_Incidence\n",
       "Year                                              \n",
       "1990  400.345499       301.570724       519.425138\n",
       "1991  399.447169       300.953808       518.124793\n",
       "1992  398.159894       300.232088       516.501261\n",
       "1993  396.589441       298.957277       514.279687\n",
       "1994  394.813168       298.081795       511.575770\n",
       "1995  392.926724       296.741493       508.712799\n",
       "1996  388.172415       293.274669       502.313576\n",
       "1997  379.682273       286.866596       491.063969\n",
       "1998  370.236077       279.674700       479.140059\n",
       "1999  362.617606       274.098450       469.169022"
      ]
     },
     "execution_count": 65,
     "metadata": {},
     "output_type": "execute_result"
    }
   ],
   "source": [
    "Incidence_average = pd.pivot_table(Incidence, values= ['Incidence', 'Upper_Incidence', 'Lower_Incidence'], index = 'Year', aggfunc= np.average)\n",
    "Incidence_average.head(10)"
   ]
  },
  {
   "cell_type": "code",
   "execution_count": 66,
   "id": "5a419bba-44d0-4859-be96-dd394c3d27c8",
   "metadata": {},
   "outputs": [
    {
     "data": {
      "image/png": "[encoded data removed]",
      "text/plain": [
       "<Figure size 720x504 with 1 Axes>"
      ]
     },
     "metadata": {
      "needs_background": "light"
     },
     "output_type": "display_data"
    }
   ],
   "source": [
    "fig = plt.figure(figsize= (10,7))\n",
    "ax1 = fig.add_subplot(111)\n",
    "\n",
    "ax1.scatter(Incidence_average.index, Incidence_average['Incidence'], s=10, c='b', marker=\"o\", label='Incidence')\n",
    "ax1.scatter(Incidence_average.index, Incidence_average['Upper_Incidence'], s=10, c='r', marker=\"o\", label='Upper Incidence')\n",
    "ax1.scatter(Incidence_average.index, Incidence_average['Lower_Incidence'], s=10, c='g', marker=\"o\", label='Lower Incidence')\n",
    "\n",
    "plt.title(\"Upper and lower rates for Incidence of anxiety\", fontsize = 20)\n",
    "plt.xlabel(\"Year\", fontsize = 15)\n",
    "plt.ylabel(\"Incidence rate per 100,000 population\", fontsize = 15)\n",
    "plt.legend()\n",
    "plt.show()"
   ]
  },
  {
   "cell_type": "markdown",
   "id": "4731fe96-fdd9-42e3-ab77-85254447dd47",
   "metadata": {},
   "source": [
    "### Comparing average incidences for males and females from 1990 to 2019:"
   ]
  },
  {
   "cell_type": "code",
   "execution_count": 67,
   "id": "ae779b04-3321-48f8-a7be-173c1e5a0215",
   "metadata": {},
   "outputs": [
    {
     "data": {
      "image/png": "[encoded data removed]",
      "text/plain": [
       "<Figure size 864x576 with 1 Axes>"
      ]
     },
     "metadata": {
      "needs_background": "light"
     },
     "output_type": "display_data"
    }
   ],
   "source": [
    "plt.subplots(figsize = (12,8))\n",
    "plt.plot(Incidence_male_average.index, Incidence_male_average['Incidence'], label = 'Males')\n",
    "plt.plot(Incidence_female_average.index, Incidence_female_average['Incidence'], label = 'Females')\n",
    "\n",
    "plt.xlabel(\"Year\", fontsize = 13)\n",
    "plt.ylabel(\"Average Incidence\", fontsize = 13)\n",
    "plt.title(\"Average Incidence for Males and Females\",fontsize = 20)\n",
    "plt.legend()\n",
    "plt.show()"
   ]
  },
  {
   "cell_type": "markdown",
   "id": "f7f14435-3c94-4b99-8c97-1b1f1d2eb58b",
   "metadata": {},
   "source": [
    "### Interpretation:\n",
    "* The average incidences for males and females follow the same pattern over the years but is higher for females than for males.\n",
    "* The average incidences dropped significantly from 1995 and started increasing again from 2005/"
   ]
  },
  {
   "cell_type": "markdown",
   "id": "083cc97f-f60a-4731-9f58-f74cf22b0b9f",
   "metadata": {},
   "source": [
    "### Comparing the incidence rate (per 100,000 population) for various age-groups from 1990 to 2019:"
   ]
  },
  {
   "cell_type": "code",
   "execution_count": 68,
   "id": "fdabd5f0-0e27-429a-9af5-b07cdee81209",
   "metadata": {},
   "outputs": [],
   "source": [
    "Incidence_U5 = Incidence[(Incidence['Age_group']) == 'Under 5']\n",
    "Incidence_U5 = pd.pivot_table(Incidence_U5, values= 'Incidence', index = 'Year', aggfunc= np.average)\n",
    "\n",
    "Incidence_5_14 = Incidence[(Incidence['Age_group']) == '5-14 years']\n",
    "Incidence_5_14 = pd.pivot_table(Incidence_5_14, values= 'Incidence', index = 'Year', aggfunc= np.average)\n",
    "\n",
    "Incidence_15_49 = Incidence[(Incidence['Age_group']) == '15-49 years']\n",
    "Incidence_15_49 = pd.pivot_table(Incidence_15_49, values= 'Incidence', index = 'Year', aggfunc= np.average)\n",
    "\n",
    "Incidence_50_69 = Incidence[(Incidence['Age_group']) == '50-69 years']\n",
    "Incidence_50_69 = pd.pivot_table(Incidence_50_69, values= 'Incidence', index = 'Year', aggfunc= np.average)\n",
    "\n",
    "Incidence_70 = Incidence[(Incidence['Age_group']) == '70+ years']\n",
    "Incidence_70 = pd.pivot_table(Incidence_70, values= 'Incidence', index = 'Year', aggfunc= np.average)\n"
   ]
  },
  {
   "cell_type": "code",
   "execution_count": 69,
   "id": "39bea4d6-f66f-4195-8407-4088d578aae8",
   "metadata": {},
   "outputs": [
    {
     "data": {
      "image/png": "[encoded data removed]",
      "text/plain": [
       "<Figure size 864x576 with 1 Axes>"
      ]
     },
     "metadata": {
      "needs_background": "light"
     },
     "output_type": "display_data"
    }
   ],
   "source": [
    "plt.subplots(figsize = (12,8))\n",
    "plt.plot(Incidence_U5.index, Incidence_U5['Incidence'], label = 'Under 5')\n",
    "plt.plot(Incidence_5_14.index, Incidence_5_14['Incidence'], label = '5-14 years')\n",
    "plt.plot(Incidence_15_49.index, Incidence_15_49['Incidence'], label = '15-49 years')\n",
    "plt.plot(Incidence_50_69.index, Incidence_50_69['Incidence'], label = '50-69 years')\n",
    "plt.plot(Incidence_70.index, Incidence_70['Incidence'], label = '70+ years')\n",
    "\n",
    "plt.xlabel(\"Year\", fontsize = 13)\n",
    "plt.ylabel(\"Average Incidence\", fontsize = 13)\n",
    "plt.title(\"Average Incidence rates for different age groups\",fontsize = 20)\n",
    "plt.legend()\n",
    "plt.show()"
   ]
  },
  {
   "cell_type": "markdown",
   "id": "960ec3ea-4bad-4218-afd1-0e76b4e10ed7",
   "metadata": {},
   "source": [
    "### Interpretation:\n",
    "* The highest incidence rate is for the age-group 15-49 years and the lowest is for Under 5 age group.\n",
    "* The incidence rate per 100,00 population is constant for the age groups: Under 5 years, 70+ years and 50-69 years.\n",
    "* There was fall in the incidence rate after 1995 for the age group 5-14 years and 15-49 years and then rapid increase after 2005."
   ]
  },
  {
   "cell_type": "markdown",
   "id": "af640cb9-0ba6-4ae2-a5ad-26d924df79c0",
   "metadata": {},
   "source": [
    "### Comparing the incidence rate (per 100,000 population) for males and females from 1990 to 2019:"
   ]
  },
  {
   "cell_type": "code",
   "execution_count": 70,
   "id": "8ad4725c-2a47-46ec-be71-7d4e2bf1b289",
   "metadata": {},
   "outputs": [
    {
     "data": {
      "image/png": "[encoded data removed]",
      "text/plain": [
       "<Figure size 864x576 with 1 Axes>"
      ]
     },
     "metadata": {
      "needs_background": "light"
     },
     "output_type": "display_data"
    }
   ],
   "source": [
    "plt.subplots(figsize = (12,8))\n",
    "plt.plot(Incidence_male_average.index, Incidence_male_average['Incidence'], label = 'Males')\n",
    "plt.plot(Incidence_female_average.index, Incidence_female_average['Incidence'], label = 'Females')\n",
    "\n",
    "plt.xlabel(\"Year\", fontsize = 13)\n",
    "plt.ylabel(\"Average Incidence\", fontsize = 13)\n",
    "plt.title(\"Average Incidence for Males and Females\",fontsize = 20)\n",
    "plt.legend()\n",
    "plt.show()"
   ]
  },
  {
   "cell_type": "markdown",
   "id": "b591ec2f-cf57-46e5-9c76-5e62e7e143a0",
   "metadata": {},
   "source": [
    "### Comparing average Daly, Prevalence and Incidences for anxiety by pie-charts:"
   ]
  },
  {
   "cell_type": "code",
   "execution_count": 71,
   "id": "5609eb0f-d669-45a1-821f-763eecb1a2a9",
   "metadata": {},
   "outputs": [
    {
     "data": {
      "text/html": [
       "<div>\n",
       "<style scoped>\n",
       "    .dataframe tbody tr th:only-of-type {\n",
       "        vertical-align: middle;\n",
       "    }\n",
       "\n",
       "    .dataframe tbody tr th {\n",
       "        vertical-align: top;\n",
       "    }\n",
       "\n",
       "    .dataframe thead th {\n",
       "        text-align: right;\n",
       "    }\n",
       "</style>\n",
       "<table border=\"1\" class=\"dataframe\">\n",
       "  <thead>\n",
       "    <tr style=\"text-align: right;\">\n",
       "      <th></th>\n",
       "      <th>Age_group</th>\n",
       "      <th>Daly</th>\n",
       "      <th>Prevalence</th>\n",
       "      <th>Incidence</th>\n",
       "    </tr>\n",
       "  </thead>\n",
       "  <tbody>\n",
       "    <tr>\n",
       "      <th>0</th>\n",
       "      <td>15-49 years</td>\n",
       "      <td>340.314057</td>\n",
       "      <td>3554.790678</td>\n",
       "      <td>603.266080</td>\n",
       "    </tr>\n",
       "    <tr>\n",
       "      <th>1</th>\n",
       "      <td>5-14 years</td>\n",
       "      <td>118.680779</td>\n",
       "      <td>1199.593950</td>\n",
       "      <td>363.254478</td>\n",
       "    </tr>\n",
       "    <tr>\n",
       "      <th>2</th>\n",
       "      <td>50-69 years</td>\n",
       "      <td>371.122012</td>\n",
       "      <td>4143.296272</td>\n",
       "      <td>523.587998</td>\n",
       "    </tr>\n",
       "    <tr>\n",
       "      <th>3</th>\n",
       "      <td>70+ years</td>\n",
       "      <td>293.932726</td>\n",
       "      <td>3540.266229</td>\n",
       "      <td>266.721227</td>\n",
       "    </tr>\n",
       "    <tr>\n",
       "      <th>4</th>\n",
       "      <td>Under 5</td>\n",
       "      <td>4.509358</td>\n",
       "      <td>44.394106</td>\n",
       "      <td>47.236646</td>\n",
       "    </tr>\n",
       "  </tbody>\n",
       "</table>\n",
       "</div>"
      ],
      "text/plain": [
       "     Age_group        Daly   Prevalence   Incidence\n",
       "0  15-49 years  340.314057  3554.790678  603.266080\n",
       "1   5-14 years  118.680779  1199.593950  363.254478\n",
       "2  50-69 years  371.122012  4143.296272  523.587998\n",
       "3    70+ years  293.932726  3540.266229  266.721227\n",
       "4      Under 5    4.509358    44.394106   47.236646"
      ]
     },
     "execution_count": 71,
     "metadata": {},
     "output_type": "execute_result"
    }
   ],
   "source": [
    "Daly_year_wise = pd.pivot_table(Daly, index= 'Age_group', values = 'Daly', aggfunc= np.average)\n",
    "Prevalence_year_wise = pd.pivot_table(Prevalence, index= 'Age_group', values = 'Prevalence', aggfunc= np.average)\n",
    "Incidence_year_wise = pd.pivot_table(Incidence, index= 'Age_group', values = 'Incidence', aggfunc= np.average)\n",
    "\n",
    "Daly_year_wise['Prevalence'] = Prevalence_year_wise['Prevalence']\n",
    "Daly_year_wise['Incidence'] = Incidence_year_wise['Incidence']\n",
    "\n",
    "\n",
    "Daly_year_wise = Daly_year_wise.drop(['Age-standardized', 'All Ages'], axis = 0)\n",
    "Daly_year_wise.reset_index(inplace = True)\n",
    "Daly_year_wise"
   ]
  },
  {
   "cell_type": "code",
   "execution_count": 72,
   "id": "6ff88c0e-5116-4aa9-b4c7-0d22ddb6950f",
   "metadata": {},
   "outputs": [
    {
     "data": {
      "image/png": "[encoded data removed]",
      "text/plain": [
       "<Figure size 720x576 with 1 Axes>"
      ]
     },
     "metadata": {},
     "output_type": "display_data"
    }
   ],
   "source": [
    "plt.figure(figsize= (10,8))\n",
    "plt.pie(Daly_year_wise['Incidence'], labels=Daly_year_wise['Age_group'])\n",
    "plt.title(\"Pie Chart of Incidences for various age groups\", fontsize =20)\n",
    "plt.show()"
   ]
  },
  {
   "cell_type": "code",
   "execution_count": 73,
   "id": "603d18d1-d6d8-42d2-be1e-2c0261bf1c87",
   "metadata": {},
   "outputs": [
    {
     "data": {
      "image/png": "[encoded data removed]",
      "text/plain": [
       "<Figure size 720x576 with 1 Axes>"
      ]
     },
     "metadata": {},
     "output_type": "display_data"
    }
   ],
   "source": [
    "plt.figure(figsize= (10,8))\n",
    "plt.pie(Daly_year_wise['Prevalence'], labels=Daly_year_wise['Age_group'])\n",
    "plt.title(\"Pie Chart of Prevalence for various age groups\", fontsize =20)\n",
    "plt.show()"
   ]
  },
  {
   "cell_type": "code",
   "execution_count": 74,
   "id": "61390b38-1454-444c-9961-afa6210642b8",
   "metadata": {},
   "outputs": [
    {
     "data": {
      "image/png": "[encoded data removed]",
      "text/plain": [
       "<Figure size 720x576 with 1 Axes>"
      ]
     },
     "metadata": {},
     "output_type": "display_data"
    }
   ],
   "source": [
    "plt.figure(figsize= (10,8))\n",
    "plt.pie(Daly_year_wise['Daly'], labels=Daly_year_wise['Age_group'])\n",
    "plt.title(\"Pie Chart of Daly for various age groups\", fontsize =20)\n",
    "plt.show()"
   ]
  },
  {
   "cell_type": "markdown",
   "id": "b46b034a-8b38-4753-aa96-a45ba60d49d2",
   "metadata": {},
   "source": [
    "### Interpretation:\n",
    "* The Prevalence and Daly rates for the 'Under 5' Age group is almost negligible. But the Incidence rate is comparitively significant. This means that the new cases of anxiety for the 'Under 5' age-group are significant.\n",
    "* The Daly for the age groups 5-14 and 15-49 is comparitively high than their Prevalence and incidences. \n",
    "* New cases for anxiety are higher in the age group of 50-69.\n"
   ]
  },
  {
   "cell_type": "markdown",
   "id": "f62e293f-fbce-47fa-9f2e-75766b80e82d",
   "metadata": {},
   "source": [
    "### Time Series model for the rate of incidences of anxiety (per 100,000 population):"
   ]
  },
  {
   "cell_type": "code",
   "execution_count": 75,
   "id": "e9d45910-9544-451a-ae6a-4b11451caa41",
   "metadata": {},
   "outputs": [
    {
     "data": {
      "image/png": "[encoded data removed]",
      "text/plain": [
       "<Figure size 576x396 with 1 Axes>"
      ]
     },
     "metadata": {
      "needs_background": "light"
     },
     "output_type": "display_data"
    }
   ],
   "source": [
    "Incidence_time_wise = pd.pivot_table(Incidence, values='Incidence', index='Year', aggfunc=np.average)\n",
    "Incidence_time_wise.plot(figsize = (8,5.5))\n",
    "plt.title('Trend of rate of incidence per 100,000 population', fontsize = 20)\n",
    "plt.xlabel('Year', fontsize = 13)\n",
    "plt.ylabel('Incidence rate', fontsize = 13)\n",
    "plt.legend()\n",
    "plt.show()"
   ]
  },
  {
   "cell_type": "markdown",
   "id": "074f33d6-b09f-4ad4-97b1-c423adb86374",
   "metadata": {},
   "source": [
    "### Interpretation:\n",
    "* The incidence rate has decreased significantly from 1995 to 2000.\n",
    "* It increased significantly after 2005 till 2010.\n",
    "* We can again see the fall from 2016."
   ]
  },
  {
   "cell_type": "code",
   "execution_count": 76,
   "id": "055f5aec-4db1-4d6d-bde7-2304912d4994",
   "metadata": {},
   "outputs": [
    {
     "name": "stderr",
     "output_type": "stream",
     "text": [
      "C:\\Users\\Admin\\anaconda3\\lib\\site-packages\\statsmodels\\tsa\\base\\tsa_model.py:578: ValueWarning: An unsupported index was provided and will be ignored when e.g. forecasting.\n",
      "  warnings.warn('An unsupported index was provided and will be'\n",
      "C:\\Users\\Admin\\anaconda3\\lib\\site-packages\\statsmodels\\tsa\\holtwinters\\model.py:427: FutureWarning: After 0.13 initialization must be handled at model creation\n",
      "  warnings.warn(\n",
      "C:\\Users\\Admin\\anaconda3\\lib\\site-packages\\statsmodels\\tsa\\base\\tsa_model.py:376: ValueWarning: No supported index is available. Prediction results will be given with an integer index beginning at `start`.\n",
      "  warnings.warn('No supported index is available.'\n"
     ]
    },
    {
     "data": {
      "text/plain": [
       "30    406.50846\n",
       "31    406.50846\n",
       "32    406.50846\n",
       "dtype: float64"
      ]
     },
     "execution_count": 76,
     "metadata": {},
     "output_type": "execute_result"
    }
   ],
   "source": [
    "ses = SimpleExpSmoothing(Incidence_time_wise['Incidence'])\n",
    "alpha = 0.9\n",
    "model = ses.fit(smoothing_level = alpha, optimized = False)\n",
    "forcast = model.forecast(3)\n",
    "forcast"
   ]
  },
  {
   "cell_type": "code",
   "execution_count": 77,
   "id": "a9fa4966-3cbf-4971-8ac4-ac80847e5874",
   "metadata": {},
   "outputs": [
    {
     "data": {
      "text/html": [
       "<div>\n",
       "<style scoped>\n",
       "    .dataframe tbody tr th:only-of-type {\n",
       "        vertical-align: middle;\n",
       "    }\n",
       "\n",
       "    .dataframe tbody tr th {\n",
       "        vertical-align: top;\n",
       "    }\n",
       "\n",
       "    .dataframe thead th {\n",
       "        text-align: right;\n",
       "    }\n",
       "</style>\n",
       "<table border=\"1\" class=\"dataframe\">\n",
       "  <thead>\n",
       "    <tr style=\"text-align: right;\">\n",
       "      <th></th>\n",
       "      <th>Year</th>\n",
       "      <th>Incidence</th>\n",
       "    </tr>\n",
       "  </thead>\n",
       "  <tbody>\n",
       "    <tr>\n",
       "      <th>0</th>\n",
       "      <td>1990</td>\n",
       "      <td>400.345499</td>\n",
       "    </tr>\n",
       "    <tr>\n",
       "      <th>1</th>\n",
       "      <td>1991</td>\n",
       "      <td>399.447169</td>\n",
       "    </tr>\n",
       "    <tr>\n",
       "      <th>2</th>\n",
       "      <td>1992</td>\n",
       "      <td>398.159894</td>\n",
       "    </tr>\n",
       "    <tr>\n",
       "      <th>3</th>\n",
       "      <td>1993</td>\n",
       "      <td>396.589441</td>\n",
       "    </tr>\n",
       "    <tr>\n",
       "      <th>4</th>\n",
       "      <td>1994</td>\n",
       "      <td>394.813168</td>\n",
       "    </tr>\n",
       "  </tbody>\n",
       "</table>\n",
       "</div>"
      ],
      "text/plain": [
       "   Year   Incidence\n",
       "0  1990  400.345499\n",
       "1  1991  399.447169\n",
       "2  1992  398.159894\n",
       "3  1993  396.589441\n",
       "4  1994  394.813168"
      ]
     },
     "execution_count": 77,
     "metadata": {},
     "output_type": "execute_result"
    }
   ],
   "source": [
    "Incidence_time_wise.reset_index(inplace=True)\n",
    "Incidence_time_wise.head()"
   ]
  },
  {
   "cell_type": "markdown",
   "id": "13d7048e-0964-4d05-b33e-96e2339c22ad",
   "metadata": {},
   "source": [
    "### Dicky Fuller Test:\n",
    "##### Null Hypothesis (H0): If failed to be rejected, it suggests the time series has a unit root,meaning it is non-stationary. It has some time dependent structure.\n",
    "\n",
    "##### Alternate Hypothesis (H1): The null hypothesis is rejected; it suggests the time series does not have a unit root, meaning it is stationary. It does not have time-dependent structure."
   ]
  },
  {
   "cell_type": "code",
   "execution_count": 78,
   "id": "a921512d-d9b1-40d9-b8c7-0310770b5753",
   "metadata": {},
   "outputs": [
    {
     "name": "stdout",
     "output_type": "stream",
     "text": [
      "ADF Statistic: -0.417058\n",
      "p-value: 0.907212\n",
      "Critical Values:\n",
      "\t1%: -3.788\n",
      "\t5%: -3.013\n",
      "\t10%: -2.646\n",
      "Fail to reject the null hypothesis (H0).\n"
     ]
    }
   ],
   "source": [
    "import statsmodels\n",
    "from statsmodels.tsa.stattools import adfuller\n",
    "import pandas as pd\n",
    "def dicky_fuller_test(x):\n",
    "    result = adfuller(x)\n",
    "    print('ADF Statistic: %f' % result[0])\n",
    "    print('p-value: %f' % result[1])\n",
    "    print('Critical Values:')\n",
    "    for key, value in result[4].items():\n",
    "        print('\\t%s: %.3f' % (key, value))\n",
    "    if result[1]>0.05:\n",
    "        print(\"Fail to reject the null hypothesis (H0).\")\n",
    "    else:\n",
    "        print(\"Reject the null hypothesis (H0).\")\n",
    " \n",
    "dicky_fuller_test(Incidence_time_wise['Incidence'])"
   ]
  },
  {
   "cell_type": "markdown",
   "id": "bebb1d97-b7f4-4364-a8d9-53e0f2a45ac6",
   "metadata": {},
   "source": [
    "##### The p-value is >0.05 so we accept H0 and conclude that it suggests the Incidence has a unit root,meaning it is non-stationary. It has some time dependent structure.¶"
   ]
  },
  {
   "cell_type": "markdown",
   "id": "39212643-d2d6-4740-8ca8-ded8006eaa26",
   "metadata": {},
   "source": [
    "### Seasonal Decompose:"
   ]
  },
  {
   "cell_type": "code",
   "execution_count": 79,
   "id": "c5c96aff-697e-43fe-b6dd-01e0a01b9aa2",
   "metadata": {},
   "outputs": [],
   "source": [
    "from statsmodels.tsa.seasonal import seasonal_decompose\n",
    "from dateutil.parser import parse\n",
    "\n",
    "plt.rcParams.update({'figure.figsize': (10,10)})\n",
    "y = Incidence_time_wise['Incidence'].to_frame()"
   ]
  },
  {
   "cell_type": "markdown",
   "id": "45c6d28f-122e-4769-9bb7-2a7a685db29a",
   "metadata": {},
   "source": [
    "### Multiplicative Decomposition "
   ]
  },
  {
   "cell_type": "code",
   "execution_count": 80,
   "id": "eff14411-d816-44a8-8871-a33fd6ab19d6",
   "metadata": {},
   "outputs": [],
   "source": [
    "result_mul = seasonal_decompose(y, model='multiplicative',period = 1)"
   ]
  },
  {
   "cell_type": "markdown",
   "id": "a31be957-e25b-43d5-9bb8-27d0f1bbc0ec",
   "metadata": {},
   "source": [
    "### Additive Decomposition"
   ]
  },
  {
   "cell_type": "code",
   "execution_count": 81,
   "id": "e2629b26-eeda-4ca5-b50d-8f48e017411f",
   "metadata": {},
   "outputs": [],
   "source": [
    "result_add = seasonal_decompose(y, model='additive',period = 1)"
   ]
  },
  {
   "cell_type": "code",
   "execution_count": 82,
   "id": "7fd82376-2ed3-4ed1-8a9a-ee9d597eba16",
   "metadata": {
    "scrolled": true
   },
   "outputs": [
    {
     "data": {
      "image/png": "[encoded data removed]",
      "text/plain": [
       "<Figure size 720x720 with 4 Axes>"
      ]
     },
     "metadata": {
      "needs_background": "light"
     },
     "output_type": "display_data"
    },
    {
     "data": {
      "image/png": "[encoded data removed]",
      "text/plain": [
       "<Figure size 720x720 with 4 Axes>"
      ]
     },
     "metadata": {
      "needs_background": "light"
     },
     "output_type": "display_data"
    }
   ],
   "source": [
    "plt.rcParams.update({'figure.figsize': (10,10)})\n",
    "result_mul.plot().suptitle('Multiplicative Decompose', fontsize=22)\n",
    "result_add.plot().suptitle('Additive Decompose', fontsize=22)\n",
    "plt.show()"
   ]
  },
  {
   "cell_type": "markdown",
   "id": "ce7a2919-8e93-4a7d-9bf7-b8bb607fc948",
   "metadata": {},
   "source": [
    "#### In both Additive and Multiplicative decompostion we can see that, the trend is the only contributing factor in the time series graph.This was also observed in the previous graph as increase or decrease in incidence value which does not repeat and there is no seasonality or resdual affecting Incidence."
   ]
  },
  {
   "cell_type": "code",
   "execution_count": 83,
   "id": "880231ce-604c-42e9-94b3-c4a7c603eb07",
   "metadata": {},
   "outputs": [
    {
     "data": {
      "image/png": "[encoded data removed]",
      "text/plain": [
       "<Figure size 720x720 with 1 Axes>"
      ]
     },
     "metadata": {
      "needs_background": "light"
     },
     "output_type": "display_data"
    }
   ],
   "source": [
    "# Auto correlation of Incidence\n",
    "import statsmodels.api as sm\n",
    "sm.graphics.tsa.plot_acf(Incidence_time_wise['Incidence'], lags=20,title='auto correlation of Incidence',zero=False)\n",
    "plt.show()"
   ]
  },
  {
   "cell_type": "markdown",
   "id": "0fb59e35-c9de-42d2-92ea-bad745138b12",
   "metadata": {},
   "source": [
    "### The incidence data is highly correlated as the plot indicates a oscillatory curve."
   ]
  },
  {
   "cell_type": "markdown",
   "id": "1e4d84b4-6b88-4fac-acd2-ff9c738d5338",
   "metadata": {},
   "source": [
    "# Conclusion\n",
    "1. From the daly data: The average daly for women is higher than men throughout the age groups.For the 'Under 5' age groups, there is hardly any difference in Daly due to anxiety.Maximum difference is seen for the age-group '70+ years'.\n",
    "\n",
    "2. We can see that there is significant difference between the average Prevalence of anxiety in males and females.They follow the same pattern and the difference has not changed much over the years. \n",
    "3. The Prevalence and Daly rates for the 'Under 5' Age group is almost negligible. But the Incidence rate is comparitively significant. This means that the new cases of anxiety for the 'Under 5' age-group are significant.The Daly for the age groups 5-14 and 15-49 is comparitively high than their Prevalence and incidences.New cases for anxiety are higher in the age group of 50-69.\n",
    "4. The incidence rate has decreased significantly from 1995 to 2000.It increased significantly after 2005 till 2010.We can again see the fall from 2016.\n",
    "5. Incidence has a unit root,meaning it is non-stationary. It has some time dependent structure.\n",
    "6. In both Additive and Multiplicative decompostion we can see that, the trend is the only contributing factor in the time series graph.This was also observed in the previous graph as increase or decrease in incidence value which does not repeat and there is no seasonality or resdual affecting Incidence.However there might be some seasonality in the data if we observed data for much more years. \n",
    "7. The incidence data throughout the years is highly autocorrelated."
   ]
  }
 ],
 "metadata": {
  "kernelspec": {
   "display_name": "Python 3 (ipykernel)",
   "language": "python",
   "name": "python3"
  },
  "language_info": {
   "codemirror_mode": {
    "name": "ipython",
    "version": 3
   },
   "file_extension": ".py",
   "mimetype": "text/x-python",
   "name": "python",
   "nbconvert_exporter": "python",
   "pygments_lexer": "ipython3",
   "version": "3.9.13"
  }
 },
 "nbformat": 4,
 "nbformat_minor": 5
}
